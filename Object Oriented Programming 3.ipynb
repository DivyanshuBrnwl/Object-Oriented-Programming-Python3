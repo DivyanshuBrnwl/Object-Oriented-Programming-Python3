{
 "cells": [
  {
   "cell_type": "code",
   "execution_count": 5,
   "id": "e57d0dbd",
   "metadata": {},
   "outputs": [],
   "source": [
    "class test:\n",
    "    def meth1(self):\n",
    "        return \"This is my first method\""
   ]
  },
  {
   "cell_type": "code",
   "execution_count": 6,
   "id": "475863c6",
   "metadata": {},
   "outputs": [
    {
     "data": {
      "text/plain": [
       "'This is my first method'"
      ]
     },
     "execution_count": 6,
     "metadata": {},
     "output_type": "execute_result"
    }
   ],
   "source": [
    "test().meth1()"
   ]
  },
  {
   "cell_type": "code",
   "execution_count": 21,
   "id": "8867faec",
   "metadata": {},
   "outputs": [],
   "source": [
    "class Test1:\n",
    "    @staticmethod\n",
    "    def meth1():\n",
    "        return \"This is method1 of class test 1\"\n",
    "    \n",
    "    def meth2(self):\n",
    "        return \"This is method2 of class test1\""
   ]
  },
  {
   "cell_type": "code",
   "execution_count": 22,
   "id": "98117070",
   "metadata": {},
   "outputs": [
    {
     "data": {
      "text/plain": [
       "'This is method1 of class test 1'"
      ]
     },
     "execution_count": 22,
     "metadata": {},
     "output_type": "execute_result"
    }
   ],
   "source": [
    "Test1.meth1()"
   ]
  },
  {
   "cell_type": "code",
   "execution_count": 23,
   "id": "bb387ef9",
   "metadata": {},
   "outputs": [
    {
     "data": {
      "text/plain": [
       "'This is method1 of class test 1'"
      ]
     },
     "execution_count": 23,
     "metadata": {},
     "output_type": "execute_result"
    }
   ],
   "source": [
    "Test1().meth1()"
   ]
  },
  {
   "cell_type": "code",
   "execution_count": 25,
   "id": "df05de1f",
   "metadata": {},
   "outputs": [
    {
     "data": {
      "text/plain": [
       "'This is method2 of class test1'"
      ]
     },
     "execution_count": 25,
     "metadata": {},
     "output_type": "execute_result"
    }
   ],
   "source": [
    "Test1().meth2()"
   ]
  },
  {
   "cell_type": "code",
   "execution_count": 38,
   "id": "1479b9a2",
   "metadata": {},
   "outputs": [],
   "source": [
    "class test2:\n",
    "#     def __init__(self, a = 5, b = 7, c = 9):\n",
    "#         self.a = a \n",
    "#         self.b = b\n",
    "#         self.c = c\n",
    "        \n",
    "    def meth1(self,  a = 5, b = 7, c = 9):\n",
    "        return a, b, c\n",
    "    \n"
   ]
  },
  {
   "cell_type": "code",
   "execution_count": 37,
   "id": "e4a22846",
   "metadata": {},
   "outputs": [
    {
     "ename": "TypeError",
     "evalue": "test2() takes no arguments",
     "output_type": "error",
     "traceback": [
      "\u001b[1;31m---------------------------------------------------------------------------\u001b[0m",
      "\u001b[1;31mTypeError\u001b[0m                                 Traceback (most recent call last)",
      "Input \u001b[1;32mIn [37]\u001b[0m, in \u001b[0;36m<cell line: 2>\u001b[1;34m()\u001b[0m\n\u001b[0;32m      1\u001b[0m a \u001b[38;5;241m=\u001b[39m test2()\n\u001b[1;32m----> 2\u001b[0m b \u001b[38;5;241m=\u001b[39m \u001b[43mtest2\u001b[49m\u001b[43m(\u001b[49m\u001b[38;5;124;43m\"\u001b[39;49m\u001b[38;5;124;43mDivyanshu\u001b[39;49m\u001b[38;5;124;43m\"\u001b[39;49m\u001b[43m)\u001b[49m\n\u001b[0;32m      3\u001b[0m c \u001b[38;5;241m=\u001b[39m test2(\u001b[38;5;124m\"\u001b[39m\u001b[38;5;124mDivyanshu\u001b[39m\u001b[38;5;124m\"\u001b[39m, \u001b[38;5;124m\"\u001b[39m\u001b[38;5;124mKumar\u001b[39m\u001b[38;5;124m\"\u001b[39m)\n\u001b[0;32m      4\u001b[0m d \u001b[38;5;241m=\u001b[39m test2(\u001b[38;5;124m\"\u001b[39m\u001b[38;5;124mDivyanshu\u001b[39m\u001b[38;5;124m\"\u001b[39m, \u001b[38;5;124m\"\u001b[39m\u001b[38;5;124mKumar\u001b[39m\u001b[38;5;124m\"\u001b[39m,\u001b[38;5;124m\"\u001b[39m\u001b[38;5;124miNeuron\u001b[39m\u001b[38;5;124m\"\u001b[39m)\n",
      "\u001b[1;31mTypeError\u001b[0m: test2() takes no arguments"
     ]
    }
   ],
   "source": [
    "a = test2()"
   ]
  },
  {
   "cell_type": "code",
   "execution_count": 43,
   "id": "2ac1acf7",
   "metadata": {},
   "outputs": [
    {
     "data": {
      "text/plain": [
       "('Divyanshu', 7, 9)"
      ]
     },
     "execution_count": 43,
     "metadata": {},
     "output_type": "execute_result"
    }
   ],
   "source": [
    "a.meth1(\"Divyanshu\")"
   ]
  },
  {
   "cell_type": "code",
   "execution_count": 44,
   "id": "4d0ec367",
   "metadata": {},
   "outputs": [
    {
     "data": {
      "text/plain": [
       "('Divyanshu', 'Kumar', 9)"
      ]
     },
     "execution_count": 44,
     "metadata": {},
     "output_type": "execute_result"
    }
   ],
   "source": [
    "a.meth1(\"Divyanshu\", \"Kumar\")"
   ]
  },
  {
   "cell_type": "code",
   "execution_count": 45,
   "id": "011533b7",
   "metadata": {},
   "outputs": [
    {
     "data": {
      "text/plain": [
       "('Divyanshu', 'Kumar', 'iNeuron')"
      ]
     },
     "execution_count": 45,
     "metadata": {},
     "output_type": "execute_result"
    }
   ],
   "source": [
    "a.meth1(\"Divyanshu\", \"Kumar\", \"iNeuron\")"
   ]
  },
  {
   "cell_type": "code",
   "execution_count": 49,
   "id": "9fdb5123",
   "metadata": {},
   "outputs": [],
   "source": [
    "class Test1:\n",
    "    def test(self):\n",
    "        return \"This is test method of class Test1\"\n",
    "\n",
    "class Test2:\n",
    "    def test(self):\n",
    "        return \"This is test method of class Test2\"\n",
    "    \n",
    "class Test3:\n",
    "    def test(self):\n",
    "        return \"This is test method of class Test3\"\n",
    "\n"
   ]
  },
  {
   "cell_type": "code",
   "execution_count": 50,
   "id": "52607626",
   "metadata": {},
   "outputs": [],
   "source": [
    "var_class = [Test1(), Test2(), Test3()]"
   ]
  },
  {
   "cell_type": "code",
   "execution_count": 51,
   "id": "54e03e87",
   "metadata": {},
   "outputs": [
    {
     "name": "stdout",
     "output_type": "stream",
     "text": [
      "This is test method of class Test1\n",
      "This is test method of class Test2\n",
      "This is test method of class Test3\n"
     ]
    }
   ],
   "source": [
    "for i in var_class:\n",
    "    print(i.test())"
   ]
  },
  {
   "cell_type": "code",
   "execution_count": 22,
   "id": "e65704f3",
   "metadata": {},
   "outputs": [],
   "source": [
    "import logging\n",
    "\n",
    "logging.basicConfig(filename='file_class.log', level=logging.DEBUG, filemode='w', format=\"%(asctime)s %(levelname)s %(message)s\")\n",
    "class File:\n",
    "    def __init__(self, filename):\n",
    "        self.filename = filename\n",
    "    \n",
    "    def read(self):\n",
    "        logging.info(\"This is the start of read operation\")\n",
    "        try:\n",
    "            logging.info(\"This is inside try block of read method\")\n",
    "            with open(self.filename, 'r') as f:\n",
    "                data = f.read()\n",
    "                logging.info(\"I am able to read the file\")\n",
    "                return data\n",
    "        except Exception as e:\n",
    "            logging.error(\"There is some issue with read file operation\")\n",
    "            logging.error(e)\n",
    "#             print(e)\n",
    "        \n",
    "    def write(self, data1):\n",
    "        try:\n",
    "            logging.info(\"I am inside try to write function\")\n",
    "            with open(self.filename, \"a\") as f:\n",
    "                f.write(data1)\n",
    "                logging.info(\"I'm able to write data into the file successfully\")\n",
    "        except Exception as e:\n",
    "            logging.error(\"There is an issue with write operation\")"
   ]
  },
  {
   "cell_type": "code",
   "execution_count": 23,
   "id": "c03c84c2",
   "metadata": {},
   "outputs": [],
   "source": [
    "a = File('check443.txt')"
   ]
  },
  {
   "cell_type": "code",
   "execution_count": 26,
   "id": "a457aa10",
   "metadata": {},
   "outputs": [
    {
     "data": {
      "text/plain": [
       "'Check Number: 443\\nSales Tax: 6.0\\nSub Total: 23.14\\nTable Number: 17\\nserver_name: Sonic Hedgehog\\nMy name is Divyanshu Kumar \\n I study in iNeuronMy name is Divyanshu Kumar \\n I study in iNeuronthis is the new sentence \\n written by divyanshu Kumar \\n from my dell laptopthis is the new sentence \\n written by divyanshu Kumar \\n from my dell laptopThis is written using Object Oriented Programming 3This is written on ThrusdayMy name is Divyanshu KumarMy name is Divyanshu KumarMy name is Divyanshu KumarMy name is Ramaiyah vastavsiya'"
      ]
     },
     "execution_count": 26,
     "metadata": {},
     "output_type": "execute_result"
    }
   ],
   "source": [
    "a.read()"
   ]
  },
  {
   "cell_type": "code",
   "execution_count": 25,
   "id": "7d720243",
   "metadata": {},
   "outputs": [],
   "source": [
    "a.write(\"My name is Ramaiyah vastavsiya\")"
   ]
  },
  {
   "cell_type": "code",
   "execution_count": 112,
   "id": "f3d1b9ec",
   "metadata": {},
   "outputs": [
    {
     "name": "stdout",
     "output_type": "stream",
     "text": [
      "Add: 10 + 5 = 15\n",
      "Substract: 10 - 5 = 5\n",
      "Multiply: 10 * 5 = 50\n",
      "Divide: 10 / 5 = 2.0\n"
     ]
    }
   ],
   "source": [
    "import logging\n",
    "\n",
    "logging.basicConfig(level = logging.DEBUG)\n",
    "\n",
    "def add(x, y):\n",
    "    return x+y\n",
    "\n",
    "def sub(x, y):\n",
    "    return x-y\n",
    "\n",
    "def mul(x, y):\n",
    "    return x*y\n",
    "\n",
    "def div(x, y):\n",
    "    return x/y\n",
    "\n",
    "num1 = 10\n",
    "num2 = 5\n",
    "\n",
    "add_result = add(num1, num2)\n",
    "\n",
    "sub_result = sub(num1, num2)\n",
    "\n",
    "mul_result = mul(num1, num2)\n",
    "\n",
    "div_result = div(num1, num2)\n",
    "\n",
    "logging.debug(f\"Add: {num1} + {num2} = {num1 + num2}\")\n",
    "\n",
    "logging.debug(f\"Substract: {num1} - {num2} = {num1 - num2}\")\n",
    "\n",
    "logging.debug(f\"Multiply: {num1} * {num2} = {num1 * num2}\")\n",
    "\n",
    "logging.debug(f\"Divide: {num1} / {num2} = {num1 / num2}\")\n",
    "\n",
    "print(f\"Add: {num1} + {num2} = {num1 + num2}\")\n",
    "\n",
    "print(f\"Substract: {num1} - {num2} = {num1 - num2}\")\n",
    "\n",
    "print(f\"Multiply: {num1} * {num2} = {num1 * num2}\")\n",
    "\n",
    "print(f\"Divide: {num1} / {num2} = {num1 / num2}\")"
   ]
  },
  {
   "cell_type": "code",
   "execution_count": null,
   "id": "15888e20",
   "metadata": {},
   "outputs": [],
   "source": []
  },
  {
   "cell_type": "code",
   "execution_count": null,
   "id": "15cfbba8",
   "metadata": {},
   "outputs": [],
   "source": []
  }
 ],
 "metadata": {
  "kernelspec": {
   "display_name": "Python 3 (ipykernel)",
   "language": "python",
   "name": "python3"
  },
  "language_info": {
   "codemirror_mode": {
    "name": "ipython",
    "version": 3
   },
   "file_extension": ".py",
   "mimetype": "text/x-python",
   "name": "python",
   "nbconvert_exporter": "python",
   "pygments_lexer": "ipython3",
   "version": "3.9.12"
  }
 },
 "nbformat": 4,
 "nbformat_minor": 5
}
