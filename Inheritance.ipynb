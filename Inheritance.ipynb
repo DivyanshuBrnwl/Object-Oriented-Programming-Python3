{
 "cells": [
  {
   "cell_type": "code",
   "execution_count": 6,
   "id": "fed9d9a4",
   "metadata": {},
   "outputs": [],
   "source": [
    "#Single inheritance\n",
    "\n",
    "class Parent:\n",
    "    def func1(self):\n",
    "        print(\"This is Parent Class\")\n",
    "        \n",
    "class Child(Parent):\n",
    "    def func2(self):\n",
    "        print(\"This is Child Class\")"
   ]
  },
  {
   "cell_type": "code",
   "execution_count": 7,
   "id": "b49c68cc",
   "metadata": {},
   "outputs": [],
   "source": [
    "p1 = Parent()\n",
    "c1 = Child()"
   ]
  },
  {
   "cell_type": "code",
   "execution_count": 8,
   "id": "373000b2",
   "metadata": {},
   "outputs": [
    {
     "name": "stdout",
     "output_type": "stream",
     "text": [
      "This is Parent Class\n"
     ]
    }
   ],
   "source": [
    "p1.func1()"
   ]
  },
  {
   "cell_type": "code",
   "execution_count": 10,
   "id": "91c94fe8",
   "metadata": {},
   "outputs": [
    {
     "name": "stdout",
     "output_type": "stream",
     "text": [
      "This is Parent Class\n"
     ]
    }
   ],
   "source": [
    "c1.func1()"
   ]
  },
  {
   "cell_type": "code",
   "execution_count": 19,
   "id": "287159d9",
   "metadata": {},
   "outputs": [],
   "source": [
    "class Person:\n",
    "    gender = \"Male\"\n",
    "    height = \"Above 178cm\"\n",
    "    \n",
    "    def func1(self):\n",
    "        print(f\"The Gender of this employee is {self.gender}\")\n",
    "        \n",
    "class Employee(Person):\n",
    "    education = \"Ineuron\"\n",
    "    company = \"Google\"\n",
    "    branch = \"Delhi\"\n",
    "    \n",
    "    def func2(self):\n",
    "        print(f\"I Studied in {self.education}\")\n",
    "        print(f\"I work in {self.company}\")"
   ]
  },
  {
   "cell_type": "code",
   "execution_count": 20,
   "id": "107a78cf",
   "metadata": {},
   "outputs": [],
   "source": [
    "p1 = Person()\n",
    "e1 = Employee()"
   ]
  },
  {
   "cell_type": "code",
   "execution_count": 21,
   "id": "8b79d3ee",
   "metadata": {},
   "outputs": [
    {
     "name": "stdout",
     "output_type": "stream",
     "text": [
      "The Gender of this employee is Male\n"
     ]
    }
   ],
   "source": [
    "e1.func1()"
   ]
  },
  {
   "cell_type": "code",
   "execution_count": 26,
   "id": "73da0a1b",
   "metadata": {},
   "outputs": [],
   "source": [
    "class Animal:\n",
    "    def __init__(self, mammal, legs):\n",
    "        self.mammal = mammal\n",
    "        self.legs = legs\n",
    "        \n",
    "    def birth(self):\n",
    "        print(\"I give birth to the Young ones\")\n",
    "        \n",
    "    def limbs(self):\n",
    "        print(\"I have four legs\")\n",
    "        \n",
    "class Dogs(Animal):\n",
    "    def __init__(self, name, colour, breed):\n",
    "        self.name = name\n",
    "        self.colour = colour\n",
    "        self.breed = breed\n",
    "        \n",
    "    def hello(self):\n",
    "        print(f\"Hello My name is {self.name}\")\n",
    "        \n",
    "    def rang(self):\n",
    "        print(f\"My colour is {self.colour}\")\n",
    "        \n",
    "    def breed(self):\n",
    "        print(f\"I Belong to {self.breed} breed\")\n",
    "        \n",
    "class Pet()"
   ]
  },
  {
   "cell_type": "code",
   "execution_count": 34,
   "id": "f45b72d5",
   "metadata": {},
   "outputs": [],
   "source": [
    "a1 = Animal(True, \"four\")\n",
    "d1 = Dogs(\"Dollar\", \"Brown\", \"Great Dane\")"
   ]
  },
  {
   "cell_type": "code",
   "execution_count": 28,
   "id": "50f7ee0b",
   "metadata": {},
   "outputs": [
    {
     "name": "stdout",
     "output_type": "stream",
     "text": [
      "I have four legs\n"
     ]
    }
   ],
   "source": [
    "d1.limbs()"
   ]
  },
  {
   "cell_type": "code",
   "execution_count": 29,
   "id": "f3d1f3f6",
   "metadata": {},
   "outputs": [
    {
     "name": "stdout",
     "output_type": "stream",
     "text": [
      "I give birth to the Young ones\n"
     ]
    }
   ],
   "source": [
    "d1.birth()"
   ]
  },
  {
   "cell_type": "code",
   "execution_count": 51,
   "id": "f078b993",
   "metadata": {},
   "outputs": [],
   "source": [
    "class Animal:\n",
    "    def __init__(self, mammal, legs):\n",
    "    \n",
    "        self.mammal = mammal\n",
    "        self.legs = legs\n",
    "        \n",
    "    def birth(self):\n",
    "        print(self.mammal)\n",
    "        \n",
    "    def limbs(self):\n",
    "        print(f\"I have {self.legs} legs\")\n",
    "        \n",
    "class Dogs:\n",
    "    \n",
    "    name = 'Dove'\n",
    "    colour = \"Brown\"\n",
    "    breed = \"Golden Retriever\"\n",
    "        \n",
    "    def hello(self):\n",
    "        print(f\"Hello My name is {name}\")\n",
    "        \n",
    "    def rang(self):\n",
    "        print(f\"My colour is {colour}\")\n",
    "        \n",
    "class Pet(Animal, Dogs):\n",
    "    owner = \"Divyanshu\"\n",
    "    qualification = \"Graduate\"\n",
    "    \n",
    "    def Godfather(self):\n",
    "        print(f\"The name of the owner is {owner}\")\n",
    "        \n",
    "    def Qual(self):\n",
    "        print(f\"The owner is a {qualification}\")"
   ]
  },
  {
   "cell_type": "code",
   "execution_count": 52,
   "id": "4275b5ea",
   "metadata": {},
   "outputs": [],
   "source": [
    "p1 = Pet(True, \"four\")"
   ]
  },
  {
   "cell_type": "code",
   "execution_count": 53,
   "id": "05466554",
   "metadata": {},
   "outputs": [
    {
     "name": "stdout",
     "output_type": "stream",
     "text": [
      "I have four legs\n"
     ]
    }
   ],
   "source": [
    "p1.limbs()"
   ]
  },
  {
   "cell_type": "code",
   "execution_count": 54,
   "id": "288358e6",
   "metadata": {},
   "outputs": [
    {
     "name": "stdout",
     "output_type": "stream",
     "text": [
      "True\n"
     ]
    }
   ],
   "source": [
    "p1.birth()"
   ]
  },
  {
   "cell_type": "markdown",
   "id": "f25c7b7f",
   "metadata": {},
   "source": [
    "## This is multiple inheritance"
   ]
  },
  {
   "cell_type": "code",
   "execution_count": 102,
   "id": "786d2124",
   "metadata": {},
   "outputs": [],
   "source": [
    "class Person:\n",
    "        \n",
    "    def MF(self):\n",
    "        print(f\"My gender is Male\")\n",
    "        \n",
    "    def state_add(self):\n",
    "        print(f\"The state in which I live is Bihar\")\n",
    "        \n",
    "class ed_Company:\n",
    "\n",
    "    def comp(self):\n",
    "        print(f\"The name of the company is Ineuron\")\n",
    "        \n",
    "    def bran(self):\n",
    "        print(f\"The name of the branch is Banglore\")\n",
    "        \n",
    "    def domain(self):\n",
    "        print(\"This is a ed-tech company\")\n",
    "        \n",
    "class Employee(Person, ed_Company):\n",
    "    \n",
    "    def name(self):\n",
    "        print(\"The name of the employee is Divyanshu\")\n",
    "    \n",
    "    def qualifications(self):\n",
    "        print(f\"I am a BCA Graduate\")\n",
    "        \n",
    "    def city(self):\n",
    "        (\"I am from Gaya\")"
   ]
  },
  {
   "cell_type": "code",
   "execution_count": 99,
   "id": "078b877d",
   "metadata": {},
   "outputs": [
    {
     "ename": "TypeError",
     "evalue": "Person() takes no arguments",
     "output_type": "error",
     "traceback": [
      "\u001b[1;31m---------------------------------------------------------------------------\u001b[0m",
      "\u001b[1;31mTypeError\u001b[0m                                 Traceback (most recent call last)",
      "Input \u001b[1;32mIn [99]\u001b[0m, in \u001b[0;36m<cell line: 1>\u001b[1;34m()\u001b[0m\n\u001b[1;32m----> 1\u001b[0m p1 \u001b[38;5;241m=\u001b[39m \u001b[43mPerson\u001b[49m\u001b[43m(\u001b[49m\u001b[38;5;124;43m\"\u001b[39;49m\u001b[38;5;124;43mMale\u001b[39;49m\u001b[38;5;124;43m\"\u001b[39;49m\u001b[43m,\u001b[49m\u001b[43m \u001b[49m\u001b[38;5;124;43m\"\u001b[39;49m\u001b[38;5;124;43mBihar\u001b[39;49m\u001b[38;5;124;43m\"\u001b[39;49m\u001b[43m)\u001b[49m\n\u001b[0;32m      2\u001b[0m ed_c1 \u001b[38;5;241m=\u001b[39m ed_Company(\u001b[38;5;124m\"\u001b[39m\u001b[38;5;124mIneuron\u001b[39m\u001b[38;5;124m\"\u001b[39m, \u001b[38;5;124m\"\u001b[39m\u001b[38;5;124mBanglore\u001b[39m\u001b[38;5;124m\"\u001b[39m, \u001b[38;5;124m\"\u001b[39m\u001b[38;5;124mEd-TECH\u001b[39m\u001b[38;5;124m\"\u001b[39m)\n\u001b[0;32m      3\u001b[0m e1 \u001b[38;5;241m=\u001b[39m Employee(\u001b[38;5;124m\"\u001b[39m\u001b[38;5;124mMale\u001b[39m\u001b[38;5;124m\"\u001b[39m, \u001b[38;5;124m\"\u001b[39m\u001b[38;5;124mBihar\u001b[39m\u001b[38;5;124m\"\u001b[39m, \u001b[38;5;124m\"\u001b[39m\u001b[38;5;124mIneuron\u001b[39m\u001b[38;5;124m\"\u001b[39m)\n",
      "\u001b[1;31mTypeError\u001b[0m: Person() takes no arguments"
     ]
    }
   ],
   "source": [
    "p1 = Person(\"Male\", \"Bihar\")\n",
    "ed_c1 = ed_Company(\"Ineuron\", \"Banglore\", \"Ed-TECH\")\n",
    "e1 = Employee(\"Male\", \"Bihar\", \"Ineuron\")"
   ]
  },
  {
   "cell_type": "code",
   "execution_count": 103,
   "id": "379b9f7d",
   "metadata": {},
   "outputs": [],
   "source": [
    "p1 = Person()\n",
    "ed_c1 = ed_Company()\n",
    "e1 = Employee()"
   ]
  },
  {
   "cell_type": "code",
   "execution_count": 104,
   "id": "97afdbb5",
   "metadata": {},
   "outputs": [
    {
     "name": "stdout",
     "output_type": "stream",
     "text": [
      "The name of the branch is Banglore\n"
     ]
    }
   ],
   "source": [
    "e1.bran()"
   ]
  },
  {
   "cell_type": "markdown",
   "id": "06baa749",
   "metadata": {},
   "source": [
    "## This is multi level inheritance"
   ]
  },
  {
   "cell_type": "code",
   "execution_count": 106,
   "id": "c0214ff4",
   "metadata": {},
   "outputs": [],
   "source": [
    "\n",
    "class Galaxy:\n",
    "    def add1(self):\n",
    "        print(\"I am in the galaxy\")\n",
    "        \n",
    "class SolarSystem(Galaxy):\n",
    "    def add2(self):\n",
    "        print(\"I am in the solar system\")\n",
    "        \n",
    "class Earth(SolarSystem):\n",
    "    def add3(self):\n",
    "        print(\"I am in the Earth\")"
   ]
  },
  {
   "cell_type": "code",
   "execution_count": 107,
   "id": "32ba7089",
   "metadata": {},
   "outputs": [],
   "source": [
    "g1 = Galaxy()\n",
    "s1 = SolarSystem()\n",
    "e1 = Earth()"
   ]
  },
  {
   "cell_type": "code",
   "execution_count": 108,
   "id": "b417e496",
   "metadata": {},
   "outputs": [
    {
     "name": "stdout",
     "output_type": "stream",
     "text": [
      "I am in the galaxy\n"
     ]
    }
   ],
   "source": [
    "e1.add1()"
   ]
  },
  {
   "cell_type": "code",
   "execution_count": 109,
   "id": "438a1b87",
   "metadata": {},
   "outputs": [
    {
     "name": "stdout",
     "output_type": "stream",
     "text": [
      "I am in the solar system\n",
      "I am in the Earth\n"
     ]
    }
   ],
   "source": [
    "e1.add2()\n",
    "e1.add3()"
   ]
  },
  {
   "cell_type": "code",
   "execution_count": 2,
   "id": "72e636e7",
   "metadata": {},
   "outputs": [],
   "source": [
    "class School:\n",
    "    def info(self):\n",
    "        print(\"D.A.V. is a school in India\")\n",
    "        \n",
    "class State(School):\n",
    "    def state(self):\n",
    "        print(\"This is a school in Bihar\")\n",
    "        \n",
    "class City(State):\n",
    "    def city(self):\n",
    "        print(\"This is a school in Gaya\")"
   ]
  },
  {
   "cell_type": "code",
   "execution_count": 3,
   "id": "1ff80c0a",
   "metadata": {},
   "outputs": [],
   "source": [
    "c1 = City()"
   ]
  },
  {
   "cell_type": "code",
   "execution_count": 6,
   "id": "7346cc2c",
   "metadata": {},
   "outputs": [
    {
     "name": "stdout",
     "output_type": "stream",
     "text": [
      "D.A.V. is a school in India\n",
      "This is a school in Gaya\n",
      "This is a school in Bihar\n"
     ]
    }
   ],
   "source": [
    "c1.info()\n",
    "c1.city()\n",
    "c1.state()"
   ]
  },
  {
   "cell_type": "markdown",
   "id": "4df111e2",
   "metadata": {},
   "source": [
    "## This is Hierarchial Inheritance"
   ]
  },
  {
   "cell_type": "code",
   "execution_count": 13,
   "id": "aa942841",
   "metadata": {},
   "outputs": [],
   "source": [
    "class Phones:\n",
    "    def __init__(self, brand, model, price):\n",
    "        self.brand = brand \n",
    "        self.model = model\n",
    "        self.price = price\n",
    "        \n",
    "    def specs(self):\n",
    "        print(f\"Phone's Brand :- {self.brand} and Phones's price = {self.price}\")\n",
    "        \n",
    "    def typeofphone(self):\n",
    "        if self.price < 25000:\n",
    "            print(\"This is a budget phone\")\n",
    "        else:\n",
    "            print(\"This is a Midrange phone\")\n",
    "            \n",
    "class Smartphone(Phones):\n",
    "    def __init__(self, brand, model, price, RAM, storage):\n",
    "        super().__init__(brand, model, price)\n",
    "        self.RAM = RAM\n",
    "        self.storage = storage\n",
    "        \n",
    "class FlagShip(Smartphone):\n",
    "    def __init__(self, brand, model, price, RAM, storage, frontcamera, backcamera, display):\n",
    "        super().__init__(brand, model, price, RAM, storage)\n",
    "        self.frontcamera = frontcamera\n",
    "        self.backcamera = backcamera\n",
    "        self.display = display"
   ]
  },
  {
   "cell_type": "code",
   "execution_count": 17,
   "id": "3b36ee6b",
   "metadata": {},
   "outputs": [],
   "source": [
    "p1 = FlagShip(\"Apple\", \"Plus\", 85000, \"6GB\", \"256\", \"10.2 MP\", \"12 MP\", \"AmoLed\")"
   ]
  },
  {
   "cell_type": "code",
   "execution_count": 18,
   "id": "ce8401d9",
   "metadata": {},
   "outputs": [
    {
     "name": "stdout",
     "output_type": "stream",
     "text": [
      "This is a Midrange phone\n"
     ]
    }
   ],
   "source": [
    "p1.typeofphone()"
   ]
  },
  {
   "cell_type": "code",
   "execution_count": 20,
   "id": "0c3ae286",
   "metadata": {},
   "outputs": [
    {
     "name": "stdout",
     "output_type": "stream",
     "text": [
      "Phone's Brand :- Apple and Phones's price = 85000\n"
     ]
    }
   ],
   "source": [
    "p1.specs()"
   ]
  },
  {
   "cell_type": "code",
   "execution_count": 51,
   "id": "df502173",
   "metadata": {},
   "outputs": [],
   "source": [
    "class Vehicle:\n",
    "    def vehicle_info(self):\n",
    "        print(\"This is a Vehicle\")\n",
    "\n",
    "class Car(Vehicle):\n",
    "    def __init__(self, name):\n",
    "        self.name = name\n",
    "    def car_info(self):\n",
    "        print(f\"This is a {self.name} car\")\n",
    "\n",
    "class Truck(Vehicle):\n",
    "    def __init__(self, model):\n",
    "        self.model = model\n",
    "    def truck_info(self):\n",
    "        print(f\"This is a {self.model} truck\")\n",
    "        \n",
    "class SportsCar(Car, Vehicle):\n",
    "    def sportscar(self):\n",
    "        print(\"This is a MC Laren sports car\")"
   ]
  },
  {
   "cell_type": "code",
   "execution_count": 44,
   "id": "24cd3875",
   "metadata": {},
   "outputs": [],
   "source": [
    "t1 = Truck(\"Ashoka Leyland\")"
   ]
  },
  {
   "cell_type": "code",
   "execution_count": 46,
   "id": "29b22366",
   "metadata": {},
   "outputs": [
    {
     "name": "stdout",
     "output_type": "stream",
     "text": [
      "This is a Vehicle\n"
     ]
    }
   ],
   "source": [
    "t1.vehicle_info()"
   ]
  },
  {
   "cell_type": "code",
   "execution_count": 47,
   "id": "47407be1",
   "metadata": {},
   "outputs": [],
   "source": [
    "c1 = Car(\"TATA\")"
   ]
  },
  {
   "cell_type": "code",
   "execution_count": 48,
   "id": "60393976",
   "metadata": {},
   "outputs": [
    {
     "name": "stdout",
     "output_type": "stream",
     "text": [
      "This is a TATA car\n"
     ]
    }
   ],
   "source": [
    "c1.car_info()"
   ]
  },
  {
   "cell_type": "code",
   "execution_count": 53,
   "id": "2e84292a",
   "metadata": {},
   "outputs": [],
   "source": [
    "sc1 = SportsCar(\"Tata\")"
   ]
  },
  {
   "cell_type": "code",
   "execution_count": 55,
   "id": "f25c14ba",
   "metadata": {},
   "outputs": [
    {
     "name": "stdout",
     "output_type": "stream",
     "text": [
      "This is a Vehicle\n"
     ]
    }
   ],
   "source": [
    "sc1.vehicle_info()"
   ]
  },
  {
   "cell_type": "code",
   "execution_count": 56,
   "id": "58c1167d",
   "metadata": {},
   "outputs": [],
   "source": [
    "class Company:\n",
    "    def company_name(self):\n",
    "        return \"Ineuron\"\n",
    "    \n",
    "class Employee(Company):\n",
    "    def info(self):\n",
    "        c_name = super().company_name()\n",
    "        print(f\"I work at \", c_name)\n",
    "               "
   ]
  },
  {
   "cell_type": "code",
   "execution_count": 60,
   "id": "228cbd6f",
   "metadata": {},
   "outputs": [],
   "source": [
    "e2 = Employee()"
   ]
  },
  {
   "cell_type": "code",
   "execution_count": 61,
   "id": "bbcbe042",
   "metadata": {},
   "outputs": [
    {
     "name": "stdout",
     "output_type": "stream",
     "text": [
      "I work at  Ineuron\n"
     ]
    }
   ],
   "source": [
    "e2.info()"
   ]
  },
  {
   "cell_type": "code",
   "execution_count": 62,
   "id": "070e1641",
   "metadata": {},
   "outputs": [],
   "source": [
    "class Parent:\n",
    "    def __init__(self, v1, v2):\n",
    "        self.v1 = v1\n",
    "        self.v2 = v2\n",
    "        \n",
    "class Child(Parent):\n",
    "    def __init__(self, v1, v2, v3):\n",
    "        super().__init__(v1, v2)\n",
    "        self.v3 = v3"
   ]
  },
  {
   "cell_type": "code",
   "execution_count": 67,
   "id": "8ae62b6c",
   "metadata": {},
   "outputs": [],
   "source": [
    "p1 = Parent(2, 3)\n",
    "c1 = Child(5, 6, 4)"
   ]
  },
  {
   "cell_type": "code",
   "execution_count": 68,
   "id": "72035a72",
   "metadata": {},
   "outputs": [
    {
     "data": {
      "text/plain": [
       "5"
      ]
     },
     "execution_count": 68,
     "metadata": {},
     "output_type": "execute_result"
    }
   ],
   "source": [
    "c1.v1"
   ]
  },
  {
   "cell_type": "code",
   "execution_count": 69,
   "id": "5b368ddb",
   "metadata": {},
   "outputs": [
    {
     "data": {
      "text/plain": [
       "2"
      ]
     },
     "execution_count": 69,
     "metadata": {},
     "output_type": "execute_result"
    }
   ],
   "source": [
    "p1.v1"
   ]
  },
  {
   "cell_type": "code",
   "execution_count": 75,
   "id": "f0a24dfa",
   "metadata": {},
   "outputs": [],
   "source": [
    "class Parent:\n",
    "    def __init__(self):\n",
    "        print(\"This is a parent class\")\n",
    "        \n",
    "class Parent1:\n",
    "    def __init__(self):\n",
    "        print(\"This is a parent 1 class\")\n",
    "        \n",
    "class Parent2:\n",
    "    def __init__(self):\n",
    "        print(\"THis is a parent 2 class\")\n",
    "        \n",
    "class Child(Parent2, Parent1, Parent):\n",
    "    def __init__(self):\n",
    "        super().__init__()  \n",
    "        \n",
    "        \n",
    "        "
   ]
  },
  {
   "cell_type": "code",
   "execution_count": 76,
   "id": "10366d26",
   "metadata": {},
   "outputs": [
    {
     "name": "stdout",
     "output_type": "stream",
     "text": [
      "THis is a parent 2 class\n"
     ]
    }
   ],
   "source": [
    "t1 = Child()"
   ]
  },
  {
   "cell_type": "code",
   "execution_count": null,
   "id": "338d272b",
   "metadata": {},
   "outputs": [],
   "source": []
  }
 ],
 "metadata": {
  "kernelspec": {
   "display_name": "Python 3 (ipykernel)",
   "language": "python",
   "name": "python3"
  },
  "language_info": {
   "codemirror_mode": {
    "name": "ipython",
    "version": 3
   },
   "file_extension": ".py",
   "mimetype": "text/x-python",
   "name": "python",
   "nbconvert_exporter": "python",
   "pygments_lexer": "ipython3",
   "version": "3.9.12"
  }
 },
 "nbformat": 4,
 "nbformat_minor": 5
}
