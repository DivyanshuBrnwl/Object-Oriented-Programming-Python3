{
 "cells": [
  {
   "cell_type": "code",
   "execution_count": 1,
   "id": "5aecd4fb",
   "metadata": {},
   "outputs": [],
   "source": [
    "# class : is a blueprint or code template or code template for object creation\n",
    "# object : object is instance of class"
   ]
  },
  {
   "cell_type": "code",
   "execution_count": null,
   "id": "c2060484",
   "metadata": {},
   "outputs": [],
   "source": [
    "properties of object ----> attributes, instance variable\n",
    "functionality of object ----> methods/function()\n"
   ]
  },
  {
   "cell_type": "code",
   "execution_count": 2,
   "id": "07cb3b00",
   "metadata": {},
   "outputs": [],
   "source": [
    "class Emp():\n",
    "    pass"
   ]
  },
  {
   "cell_type": "code",
   "execution_count": 4,
   "id": "553e9d96",
   "metadata": {},
   "outputs": [
    {
     "name": "stdout",
     "output_type": "stream",
     "text": [
      "<class '__main__.Emp'>\n"
     ]
    }
   ],
   "source": [
    "print(type(Emp()))"
   ]
  },
  {
   "cell_type": "code",
   "execution_count": 5,
   "id": "cc06c4ae",
   "metadata": {},
   "outputs": [],
   "source": [
    "a = Emp()"
   ]
  },
  {
   "cell_type": "code",
   "execution_count": 7,
   "id": "f2a4ad03",
   "metadata": {},
   "outputs": [
    {
     "name": "stdout",
     "output_type": "stream",
     "text": [
      "<class '__main__.Emp'>\n"
     ]
    }
   ],
   "source": [
    "print(type(a))"
   ]
  },
  {
   "cell_type": "code",
   "execution_count": 8,
   "id": "375f5e48",
   "metadata": {},
   "outputs": [
    {
     "data": {
      "text/plain": [
       "2295455702368"
      ]
     },
     "execution_count": 8,
     "metadata": {},
     "output_type": "execute_result"
    }
   ],
   "source": [
    "id(a)"
   ]
  },
  {
   "cell_type": "code",
   "execution_count": 9,
   "id": "a939b682",
   "metadata": {},
   "outputs": [],
   "source": [
    "class Robot:\n",
    "    \n",
    "    def introduce_self(self):\n",
    "        print(f\"My name is {self.name}\")\n",
    "    "
   ]
  },
  {
   "cell_type": "code",
   "execution_count": 10,
   "id": "d0efa962",
   "metadata": {},
   "outputs": [
    {
     "data": {
      "text/plain": [
       "<function __main__.Robot.introduce_self(self)>"
      ]
     },
     "execution_count": 10,
     "metadata": {},
     "output_type": "execute_result"
    }
   ],
   "source": [
    "Robot.introduce_self"
   ]
  },
  {
   "cell_type": "code",
   "execution_count": 11,
   "id": "a4bb95e9",
   "metadata": {},
   "outputs": [],
   "source": [
    "r1 = Robot()"
   ]
  },
  {
   "cell_type": "code",
   "execution_count": 12,
   "id": "1eeb0779",
   "metadata": {},
   "outputs": [],
   "source": [
    "r1.name = \"Divyanshu\""
   ]
  },
  {
   "cell_type": "code",
   "execution_count": 14,
   "id": "42ba085b",
   "metadata": {},
   "outputs": [
    {
     "name": "stdout",
     "output_type": "stream",
     "text": [
      "My name is Divyanshu\n"
     ]
    }
   ],
   "source": [
    "r1.introduce_self()"
   ]
  },
  {
   "cell_type": "code",
   "execution_count": 15,
   "id": "6facbabe",
   "metadata": {},
   "outputs": [
    {
     "ename": "NameError",
     "evalue": "name 'r2' is not defined",
     "output_type": "error",
     "traceback": [
      "\u001b[1;31m---------------------------------------------------------------------------\u001b[0m",
      "\u001b[1;31mNameError\u001b[0m                                 Traceback (most recent call last)",
      "Input \u001b[1;32mIn [15]\u001b[0m, in \u001b[0;36m<cell line: 1>\u001b[1;34m()\u001b[0m\n\u001b[1;32m----> 1\u001b[0m \u001b[43mr2\u001b[49m\u001b[38;5;241m.\u001b[39mintroduce_self()\n",
      "\u001b[1;31mNameError\u001b[0m: name 'r2' is not defined"
     ]
    }
   ],
   "source": [
    "r2.introduce_self()"
   ]
  },
  {
   "cell_type": "code",
   "execution_count": 31,
   "id": "d06560f2",
   "metadata": {},
   "outputs": [],
   "source": [
    "class Ramesh:\n",
    "    \n",
    "    def name(self):\n",
    "        print(f\"My name is {self.name}\")\n",
    "    def college(self):\n",
    "        print(f\"I study in {self.college}\")"
   ]
  },
  {
   "cell_type": "code",
   "execution_count": 44,
   "id": "3669c78b",
   "metadata": {},
   "outputs": [],
   "source": [
    "r3 = Ramesh()"
   ]
  },
  {
   "cell_type": "code",
   "execution_count": 45,
   "id": "edb9c313",
   "metadata": {},
   "outputs": [
    {
     "ename": "SyntaxError",
     "evalue": "cannot assign to function call (255590248.py, line 1)",
     "output_type": "error",
     "traceback": [
      "\u001b[1;36m  Input \u001b[1;32mIn [45]\u001b[1;36m\u001b[0m\n\u001b[1;33m    r3.college() = \"Gaya Collge\"\u001b[0m\n\u001b[1;37m    ^\u001b[0m\n\u001b[1;31mSyntaxError\u001b[0m\u001b[1;31m:\u001b[0m cannot assign to function call\n"
     ]
    }
   ],
   "source": [
    "r3.college() = \"Gaya Collge\""
   ]
  },
  {
   "cell_type": "code",
   "execution_count": 47,
   "id": "d6f661ad",
   "metadata": {},
   "outputs": [
    {
     "name": "stdout",
     "output_type": "stream",
     "text": [
      "I study in <bound method Ramesh.college of <__main__.Ramesh object at 0x00000216762B25B0>>\n",
      "None\n"
     ]
    }
   ],
   "source": [
    "print(r3.college())"
   ]
  },
  {
   "cell_type": "code",
   "execution_count": 26,
   "id": "52d47f71",
   "metadata": {},
   "outputs": [
    {
     "data": {
      "text/plain": [
       "['__class__',\n",
       " '__delattr__',\n",
       " '__dict__',\n",
       " '__dir__',\n",
       " '__doc__',\n",
       " '__eq__',\n",
       " '__format__',\n",
       " '__ge__',\n",
       " '__getattribute__',\n",
       " '__gt__',\n",
       " '__hash__',\n",
       " '__init__',\n",
       " '__init_subclass__',\n",
       " '__le__',\n",
       " '__lt__',\n",
       " '__module__',\n",
       " '__ne__',\n",
       " '__new__',\n",
       " '__reduce__',\n",
       " '__reduce_ex__',\n",
       " '__repr__',\n",
       " '__setattr__',\n",
       " '__sizeof__',\n",
       " '__str__',\n",
       " '__subclasshook__',\n",
       " '__weakref__',\n",
       " 'college',\n",
       " 'name']"
      ]
     },
     "execution_count": 26,
     "metadata": {},
     "output_type": "execute_result"
    }
   ],
   "source": [
    "dir(r3)"
   ]
  },
  {
   "cell_type": "code",
   "execution_count": 27,
   "id": "866594cd",
   "metadata": {},
   "outputs": [],
   "source": [
    "greetings = \"Good Morning\""
   ]
  },
  {
   "cell_type": "code",
   "execution_count": 29,
   "id": "5e60bf62",
   "metadata": {},
   "outputs": [
    {
     "ename": "TypeError",
     "evalue": "'str' object is not callable",
     "output_type": "error",
     "traceback": [
      "\u001b[1;31m---------------------------------------------------------------------------\u001b[0m",
      "\u001b[1;31mTypeError\u001b[0m                                 Traceback (most recent call last)",
      "Input \u001b[1;32mIn [29]\u001b[0m, in \u001b[0;36m<cell line: 1>\u001b[1;34m()\u001b[0m\n\u001b[1;32m----> 1\u001b[0m \u001b[38;5;28mprint\u001b[39m(\u001b[43mgreetings\u001b[49m\u001b[43m(\u001b[49m\u001b[43m)\u001b[49m)\n",
      "\u001b[1;31mTypeError\u001b[0m: 'str' object is not callable"
     ]
    }
   ],
   "source": [
    "print(greetings())"
   ]
  },
  {
   "cell_type": "code",
   "execution_count": 37,
   "id": "76af86ea",
   "metadata": {},
   "outputs": [],
   "source": [
    "\n",
    "r3 = Robot()\n",
    "    "
   ]
  },
  {
   "cell_type": "code",
   "execution_count": 39,
   "id": "c3cac637",
   "metadata": {},
   "outputs": [
    {
     "name": "stdout",
     "output_type": "stream",
     "text": [
      "My name is Divyanshu\n"
     ]
    }
   ],
   "source": [
    "r3.name= \"Divyanshu\"\n",
    "r3.introduce_self()"
   ]
  },
  {
   "cell_type": "code",
   "execution_count": 40,
   "id": "20f813a9",
   "metadata": {},
   "outputs": [],
   "source": [
    "r3.age = \"2 Months\""
   ]
  },
  {
   "cell_type": "code",
   "execution_count": 42,
   "id": "377da952",
   "metadata": {},
   "outputs": [
    {
     "data": {
      "text/plain": [
       "'2 Months'"
      ]
     },
     "execution_count": 42,
     "metadata": {},
     "output_type": "execute_result"
    }
   ],
   "source": [
    "r3.age"
   ]
  },
  {
   "cell_type": "code",
   "execution_count": 68,
   "id": "214a24fb",
   "metadata": {},
   "outputs": [],
   "source": [
    "class Robot:\n",
    "    def __init__(self, name, color, weight):\n",
    "        self.name = name\n",
    "        self.color = color\n",
    "        self.weight = weight\n",
    "    \n",
    "    def introduce_self(self):\n",
    "        print(f\"My name is {self.name}, My body color is {self.color} and my Body weight is {self.weight}\")"
   ]
  },
  {
   "cell_type": "code",
   "execution_count": 69,
   "id": "737de745",
   "metadata": {},
   "outputs": [],
   "source": [
    "r1 = Robot(\"Ramsung\", \"Silver\", 35)"
   ]
  },
  {
   "cell_type": "code",
   "execution_count": 71,
   "id": "90ef9f77",
   "metadata": {},
   "outputs": [],
   "source": [
    "r2 = Robot(\"Apple\", \"Matt Black\", 45)"
   ]
  },
  {
   "cell_type": "code",
   "execution_count": 72,
   "id": "3594b3c4",
   "metadata": {},
   "outputs": [
    {
     "name": "stdout",
     "output_type": "stream",
     "text": [
      "My name is Ramsung, My body color is Silver and my Body weight is 2\n"
     ]
    }
   ],
   "source": [
    "r1.introduce_self()"
   ]
  },
  {
   "cell_type": "code",
   "execution_count": 67,
   "id": "c1b82ce9",
   "metadata": {},
   "outputs": [
    {
     "data": {
      "text/plain": [
       "'Ramsung'"
      ]
     },
     "execution_count": 67,
     "metadata": {},
     "output_type": "execute_result"
    }
   ],
   "source": [
    "r1.name"
   ]
  },
  {
   "cell_type": "code",
   "execution_count": 56,
   "id": "a64abb95",
   "metadata": {},
   "outputs": [
    {
     "data": {
      "text/plain": [
       "'Apple'"
      ]
     },
     "execution_count": 56,
     "metadata": {},
     "output_type": "execute_result"
    }
   ],
   "source": [
    "r2.name"
   ]
  },
  {
   "cell_type": "code",
   "execution_count": 74,
   "id": "58e098c5",
   "metadata": {},
   "outputs": [
    {
     "name": "stdout",
     "output_type": "stream",
     "text": [
      "My name is Apple, My body color is Matt Black and my Body weight is 45\n"
     ]
    }
   ],
   "source": [
    "r2.introduce_self()"
   ]
  },
  {
   "cell_type": "code",
   "execution_count": 84,
   "id": "2bad22a3",
   "metadata": {},
   "outputs": [],
   "source": [
    "class Person:\n",
    "    def __init__(self, name, gender, profession):\n",
    "        self.name = name\n",
    "        self.gender = gender\n",
    "        self.profession = profession\n",
    "        \n",
    "    def show(self):\n",
    "        print('Name', self.name, 'Gender', self.gender, 'Profession', self.profession)\n",
    "    \n",
    "    def work(self):\n",
    "        print(self.name, \"is working in \",self.profession)"
   ]
  },
  {
   "cell_type": "code",
   "execution_count": 85,
   "id": "19e4c9a9",
   "metadata": {},
   "outputs": [],
   "source": [
    "p1 = Person(\"Divyanshu\", \"Male\", \"Station master\")"
   ]
  },
  {
   "cell_type": "code",
   "execution_count": 86,
   "id": "146ee4a8",
   "metadata": {},
   "outputs": [
    {
     "name": "stdout",
     "output_type": "stream",
     "text": [
      "Divyanshu\n",
      "Male\n",
      "Station master\n"
     ]
    }
   ],
   "source": [
    "print(p1.name)\n",
    "print(p1.gender)\n",
    "print(p1.profession)"
   ]
  },
  {
   "cell_type": "code",
   "execution_count": 88,
   "id": "238fb927",
   "metadata": {},
   "outputs": [
    {
     "name": "stdout",
     "output_type": "stream",
     "text": [
      "Divyanshu is working in  Station master\n"
     ]
    }
   ],
   "source": [
    "p1.work()"
   ]
  },
  {
   "cell_type": "code",
   "execution_count": 91,
   "id": "2f8ee050",
   "metadata": {},
   "outputs": [
    {
     "name": "stdout",
     "output_type": "stream",
     "text": [
      "Name Divyanshu Gender Male Profession Doctor\n"
     ]
    }
   ],
   "source": [
    "p1.show()"
   ]
  },
  {
   "cell_type": "code",
   "execution_count": 90,
   "id": "5ee7cfe0",
   "metadata": {},
   "outputs": [],
   "source": [
    "p1.profession = \"Doctor\""
   ]
  },
  {
   "cell_type": "code",
   "execution_count": 92,
   "id": "3fc757bc",
   "metadata": {},
   "outputs": [],
   "source": [
    "class Emp:\n",
    "    def __init__(self):\n",
    "        print(id(self))\n",
    "        self.age = 25\n",
    "        self.name = \"Imran\"\n",
    "        self.salary = 30000"
   ]
  },
  {
   "cell_type": "code",
   "execution_count": 93,
   "id": "4bd71010",
   "metadata": {},
   "outputs": [
    {
     "name": "stdout",
     "output_type": "stream",
     "text": [
      "2295495076064\n"
     ]
    }
   ],
   "source": [
    "e1 = Emp()"
   ]
  },
  {
   "cell_type": "code",
   "execution_count": 94,
   "id": "141f6bc6",
   "metadata": {},
   "outputs": [
    {
     "data": {
      "text/plain": [
       "25"
      ]
     },
     "execution_count": 94,
     "metadata": {},
     "output_type": "execute_result"
    }
   ],
   "source": [
    "e1.age"
   ]
  },
  {
   "cell_type": "code",
   "execution_count": 95,
   "id": "f7d23aa9",
   "metadata": {},
   "outputs": [
    {
     "data": {
      "text/plain": [
       "30000"
      ]
     },
     "execution_count": 95,
     "metadata": {},
     "output_type": "execute_result"
    }
   ],
   "source": [
    "e1.salary"
   ]
  },
  {
   "cell_type": "code",
   "execution_count": 10,
   "id": "251a9d12",
   "metadata": {},
   "outputs": [],
   "source": [
    "class Circle:\n",
    "    def __init__(self, radius):\n",
    "        self.radius = radius\n",
    "        \n",
    "    def area_circle(self):\n",
    "        print(f\"The area of Circle is {(22/7)*self.radius*self.radius}\")\n",
    "        \n",
    "    def circum_circle(self):\n",
    "        print(f\"The perimeter of circle is {2*(22/7)*self.radius}\")\n",
    "        "
   ]
  },
  {
   "cell_type": "code",
   "execution_count": 11,
   "id": "dfc513f5",
   "metadata": {},
   "outputs": [],
   "source": [
    "c1 = Circle(6)"
   ]
  },
  {
   "cell_type": "code",
   "execution_count": 12,
   "id": "9bbdbf07",
   "metadata": {},
   "outputs": [
    {
     "name": "stdout",
     "output_type": "stream",
     "text": [
      "The area of Circle is 113.14285714285714\n"
     ]
    }
   ],
   "source": [
    "c1.area_circle()"
   ]
  },
  {
   "cell_type": "code",
   "execution_count": 13,
   "id": "cebd1b66",
   "metadata": {},
   "outputs": [
    {
     "name": "stdout",
     "output_type": "stream",
     "text": [
      "The perimeter of circle is 37.714285714285715\n"
     ]
    }
   ],
   "source": [
    "c1.circum_circle()"
   ]
  },
  {
   "cell_type": "code",
   "execution_count": 33,
   "id": "29e81d01",
   "metadata": {},
   "outputs": [],
   "source": [
    "class Student:\n",
    "    def __init__(self, name, school, height):\n",
    "        self.name = name\n",
    "        self.school = school\n",
    "        self.height = height\n",
    "        \n",
    "    def introduce_self(self):\n",
    "        print(f\"My name is {self.name}\")\n",
    "        print(f\"My school name is {self.school}\")\n",
    "        \n",
    "    def height(self):\n",
    "        print(f\"My height is {self.height}\")"
   ]
  },
  {
   "cell_type": "code",
   "execution_count": 34,
   "id": "4c638051",
   "metadata": {},
   "outputs": [],
   "source": [
    "stu1 = Student( \"Divyanshu\", \"D.A.V.\", 178 )"
   ]
  },
  {
   "cell_type": "code",
   "execution_count": 35,
   "id": "3efd18d1",
   "metadata": {},
   "outputs": [
    {
     "name": "stdout",
     "output_type": "stream",
     "text": [
      "My name is Divyanshu\n",
      "My school name is D.A.V.\n"
     ]
    }
   ],
   "source": [
    "stu1.introduce_self()"
   ]
  },
  {
   "cell_type": "code",
   "execution_count": 36,
   "id": "5818c46c",
   "metadata": {},
   "outputs": [],
   "source": [
    "stu2 = Student(\"Tirth\", \"Creane\", 140)"
   ]
  },
  {
   "cell_type": "code",
   "execution_count": 37,
   "id": "98e17871",
   "metadata": {},
   "outputs": [
    {
     "name": "stdout",
     "output_type": "stream",
     "text": [
      "My name is Tirth\n",
      "My school name is Creane\n"
     ]
    }
   ],
   "source": [
    "stu2.introduce_self()"
   ]
  },
  {
   "cell_type": "code",
   "execution_count": 42,
   "id": "287f68b5",
   "metadata": {},
   "outputs": [],
   "source": [
    "class Triangle:\n",
    "    def __init__(self, s1, s2, s3):\n",
    "        self.s1 = s1\n",
    "        self.s2 = s2\n",
    "        self.s3 = s3\n",
    "        \n",
    "    def triangle_check(self):\n",
    "        if self.s1 + self.s2 > self.s3 and self.s2 + self.s3 > self.s1 and self.s1 + self.s3 > self.s2:\n",
    "            print(\"This can form a triangle\")\n",
    "        else:\n",
    "            print(\"This cannot solve the problem\")\n",
    "        "
   ]
  },
  {
   "cell_type": "code",
   "execution_count": 43,
   "id": "ef7dc233",
   "metadata": {},
   "outputs": [],
   "source": [
    "t1=Triangle(3, 4, 5)"
   ]
  },
  {
   "cell_type": "code",
   "execution_count": 44,
   "id": "c1d83af2",
   "metadata": {},
   "outputs": [
    {
     "name": "stdout",
     "output_type": "stream",
     "text": [
      "This can form a triangle\n"
     ]
    }
   ],
   "source": [
    "t1.triangle_check()"
   ]
  },
  {
   "cell_type": "code",
   "execution_count": 46,
   "id": "cdd530d9",
   "metadata": {},
   "outputs": [],
   "source": [
    "class Emp:\n",
    "    \n",
    "    def __init__(self):\n",
    "        print(id(self))\n",
    "        self.age = 25\n",
    "        self.name = \"Chelsy\"\n",
    "        self.salary = 250000"
   ]
  },
  {
   "cell_type": "code",
   "execution_count": 47,
   "id": "91d40144",
   "metadata": {},
   "outputs": [
    {
     "name": "stdout",
     "output_type": "stream",
     "text": [
      "1401326480544\n"
     ]
    }
   ],
   "source": [
    "e1 = Emp()"
   ]
  },
  {
   "cell_type": "code",
   "execution_count": 49,
   "id": "508a1002",
   "metadata": {},
   "outputs": [
    {
     "data": {
      "text/plain": [
       "250000"
      ]
     },
     "execution_count": 49,
     "metadata": {},
     "output_type": "execute_result"
    }
   ],
   "source": [
    "e1.salary"
   ]
  },
  {
   "cell_type": "code",
   "execution_count": 56,
   "id": "ca8aaf41",
   "metadata": {},
   "outputs": [],
   "source": [
    "class Rectangle:\n",
    "    \n",
    "    def __init__(self, length, breadth):\n",
    "        self.length = length\n",
    "        self.breadth = breadth\n",
    "        \n",
    "    def area_rect(self):\n",
    "        print(f\"The area of Rectangle is {self.length * self.breadth}\")\n",
    "        \n",
    "    def peri_rect(self):\n",
    "        print(f\"The perimeter of Rectangle is {2*(self.length + self.breadth)}\")"
   ]
  },
  {
   "cell_type": "code",
   "execution_count": 57,
   "id": "85ece2c4",
   "metadata": {},
   "outputs": [],
   "source": [
    "rec1 = Rectangle(24, 8)"
   ]
  },
  {
   "cell_type": "code",
   "execution_count": 58,
   "id": "478690bb",
   "metadata": {},
   "outputs": [
    {
     "name": "stdout",
     "output_type": "stream",
     "text": [
      "The area of Rectangle is 192\n"
     ]
    }
   ],
   "source": [
    "rec1.area_rect()"
   ]
  },
  {
   "cell_type": "code",
   "execution_count": 59,
   "id": "f80ba582",
   "metadata": {},
   "outputs": [
    {
     "name": "stdout",
     "output_type": "stream",
     "text": [
      "The perimeter of Rectangle is 64\n"
     ]
    }
   ],
   "source": [
    "rec1.peri_rect()"
   ]
  },
  {
   "cell_type": "code",
   "execution_count": 105,
   "id": "751dea65",
   "metadata": {},
   "outputs": [],
   "source": [
    "class BankAccount:\n",
    "    def __init__(self, name, balance):\n",
    "        self.name = name\n",
    "        self.balance = balance\n",
    "        \n",
    "    def account_details(self):\n",
    "        print(f\"The account Holder name is {self.name}\")\n",
    "        print(f\"The available account balance is {self.balance}\")\n",
    "     \n",
    "    def deposit(self):\n",
    "        amount = int(input(\"enter the amount you want to deposit:- \"))\n",
    "        self.balance = self.balance + amount\n",
    "        print(f\"The updated balance after deposit is {self.balance}\")\n",
    "        \n",
    "    def withdrawal(self):\n",
    "        amount = int(input(\"Enter the amount you want to withdraw:- \"))\n",
    "        if self.balance < amount:\n",
    "            print(\"Insufficient Balance\")\n",
    "        else:\n",
    "            self.balance = self.balance - amount\n",
    "            \n",
    "        print(f\"The current available balance is {self.balance}\")\n",
    "        "
   ]
  },
  {
   "cell_type": "code",
   "execution_count": 107,
   "id": "12d76ade",
   "metadata": {},
   "outputs": [],
   "source": [
    "b_acnt1 = BankAccount(\"Divyanshu\", 2400)"
   ]
  },
  {
   "cell_type": "code",
   "execution_count": 100,
   "id": "b1a1a188",
   "metadata": {},
   "outputs": [
    {
     "name": "stdout",
     "output_type": "stream",
     "text": [
      "enter the amount you want to deposit:- 1200\n",
      "The updated balance after deposit is 3600\n"
     ]
    }
   ],
   "source": [
    "b_acnt1.deposit()"
   ]
  },
  {
   "cell_type": "code",
   "execution_count": 101,
   "id": "e8d7fb27",
   "metadata": {},
   "outputs": [
    {
     "data": {
      "text/plain": [
       "3600"
      ]
     },
     "execution_count": 101,
     "metadata": {},
     "output_type": "execute_result"
    }
   ],
   "source": [
    "b_acnt1.balance"
   ]
  },
  {
   "cell_type": "code",
   "execution_count": 102,
   "id": "d462346d",
   "metadata": {},
   "outputs": [
    {
     "name": "stdout",
     "output_type": "stream",
     "text": [
      "Enter the amount you want to withdraw:- 240\n",
      "The current available balance is 3360\n"
     ]
    }
   ],
   "source": [
    "b_acnt1.withdrawal()"
   ]
  },
  {
   "cell_type": "code",
   "execution_count": 108,
   "id": "9075375f",
   "metadata": {},
   "outputs": [
    {
     "name": "stdout",
     "output_type": "stream",
     "text": [
      "The account Holder name is Divyanshu\n",
      "The available account balance is 2400\n"
     ]
    }
   ],
   "source": [
    "b_acnt1.account_details()"
   ]
  },
  {
   "cell_type": "markdown",
   "id": "322a6e80",
   "metadata": {},
   "source": [
    "# OOPs practice Question"
   ]
  },
  {
   "cell_type": "raw",
   "id": "dc3f524a",
   "metadata": {},
   "source": [
    " Write a class called BankAccount that has the following:\n",
    "        • A field called name that stores the name of the account holder.\n",
    "        • A field called amount that stores the amount of money in the account.\n",
    "        • A field called interest_rate that stores the account’s interest rate (as a percentage).\n",
    "        • A constructor that just sets the values of the three fields above.\n",
    "        • A method called apply_interest() that takes no arguments and applies the interest to the\n",
    "        account. It should just modify the amount field and not return anything. For instance, if the\n",
    "        account has $1000 in it and the interest rate is 3%, then the amount variable should be changed\n",
    "        to $1030 ($1000 + 3% interest).\n",
    "        Then test the class, by creating a new BankAccount object for a user named Juan De Hattatime who\n",
    "        has $1000 at 3% interest. Then do the following:\n",
    "        • Use the apply_interest() method to apply the interest to the account.\n",
    "        • Print out how much money is now in the account after applying the interest.\n",
    "        • Change the account’s interest rate to 2%.\n",
    "        • Use the apply_interest() method to apply the interest to the account again.\n",
    "        • Print out how much money is now in the account after applying the interest again."
   ]
  },
  {
   "cell_type": "code",
   "execution_count": 109,
   "id": "f92a2d86",
   "metadata": {},
   "outputs": [],
   "source": [
    "class BankAccount:\n",
    "    \n",
    "    def __init__(self, name, amount, interest_rate):\n",
    "        self.name = name\n",
    "        self.amount = amount\n",
    "        self.interest_rate = interest_rate\n",
    "        \n",
    "    def apply_interest(self):\n",
    "        balance = self.amount + (self.amount * (self.interest_rate/100))\n",
    "        self.amount = balance\n",
    "        print(self.amount)"
   ]
  },
  {
   "cell_type": "code",
   "execution_count": 111,
   "id": "e02e79d2",
   "metadata": {},
   "outputs": [],
   "source": [
    "acc1 = BankAccount(\"Divyanshu\", 2000, 3)"
   ]
  },
  {
   "cell_type": "code",
   "execution_count": 112,
   "id": "88c8f875",
   "metadata": {},
   "outputs": [
    {
     "name": "stdout",
     "output_type": "stream",
     "text": [
      "2060.0\n"
     ]
    }
   ],
   "source": [
    "acc1.apply_interest()"
   ]
  },
  {
   "cell_type": "code",
   "execution_count": 113,
   "id": "98220413",
   "metadata": {},
   "outputs": [],
   "source": [
    "acc1.interest_rate = 2"
   ]
  },
  {
   "cell_type": "code",
   "execution_count": 114,
   "id": "679817a4",
   "metadata": {},
   "outputs": [
    {
     "name": "stdout",
     "output_type": "stream",
     "text": [
      "2101.2\n"
     ]
    }
   ],
   "source": [
    "acc1.apply_interest()"
   ]
  },
  {
   "cell_type": "raw",
   "id": "7e4f8373",
   "metadata": {},
   "source": [
    "Write a class called Item that represents an item for sale. It should have the following:\n",
    "      • Fields representing the name and price of the item\n",
    "      • A constructor that sets those fields,\n",
    "      • A __str__() method that returns a string containing the item name and price, with the price\n",
    "      formatted to exactly 2 decimal places\n",
    "      Test the class by creating a new item object and printing it out"
   ]
  },
  {
   "cell_type": "code",
   "execution_count": 68,
   "id": "4fa44ccf",
   "metadata": {},
   "outputs": [],
   "source": [
    "class Item:\n",
    "    def __init__(self, name, price):\n",
    "        self.name = name\n",
    "        self.price = price\n",
    "        \n",
    "    def __str__(self):\n",
    "        return f\"{self.name} : {self.price}\""
   ]
  },
  {
   "cell_type": "code",
   "execution_count": 71,
   "id": "180274d7",
   "metadata": {},
   "outputs": [],
   "source": [
    "item1 = Item(\"Harpic\", \"$29.99\")\n",
    "item2 = Item(\"Surf Excel\", \"$19.99\")\n",
    "item3 = Item(\"Vim\", \"$9.99\")"
   ]
  },
  {
   "cell_type": "code",
   "execution_count": 75,
   "id": "07fd743d",
   "metadata": {},
   "outputs": [
    {
     "name": "stdout",
     "output_type": "stream",
     "text": [
      "Harpic : $29.99 Surf Excel : $19.99 Vim : $9.99\n"
     ]
    }
   ],
   "source": [
    "print(item1, item2, item3)\n"
   ]
  },
  {
   "cell_type": "code",
   "execution_count": null,
   "id": "6f4ff246",
   "metadata": {},
   "outputs": [],
   "source": []
  },
  {
   "cell_type": "raw",
   "id": "7925925b",
   "metadata": {},
   "source": [
    "Write a class called ShoppingCart that might be used in an online store. It should have the following:\n",
    "      • A list of Item objects that represents the items in the shopping cart\n",
    "      • A constructor that creates an empty list of items (the constructor should take no arguments except self)\n",
    "      • A method called add() that takes a name and a price and adds an Item object with that name\n",
    "      and price to the shopping cart\n",
    "      • A method called total() that takes no arguments and returns the total cost of the items in the\n",
    "      cart\n",
    "      34\n",
    "      • A method called remove_items() that takes an item name (a string) and removes any Item\n",
    "      objects with that name from the shopping cart. It shouldn’t return anything.\n",
    "      • A __str__() method that returns a string containing info on all the items in the shopping cart\n",
    "      Then test out the shopping cart as follows: (1) create a shopping cart; (2) add several items to it; (3)\n",
    "      print the cart’s total cost (using the total() method); (4) remove one of the items types; (5) print out\n",
    "      the cart"
   ]
  },
  {
   "cell_type": "code",
   "execution_count": null,
   "id": "cb0de343",
   "metadata": {},
   "outputs": [],
   "source": [
    "class ShoppingCart:\n",
    "    \n",
    "    def __init__(self):\n",
    "        self.empty_list = []\n",
    "    \n",
    "    def add(self, item)"
   ]
  },
  {
   "cell_type": "raw",
   "id": "bb696244",
   "metadata": {},
   "source": [
    " Write a class called RestaurantCheck. It should have the following:\n",
    "      • Fields called check_number, sales_tax_percent, subtotal, table_number, and server_name\n",
    "      representing an identification for the check, the bill without tax added, the sales tax percentage,\n",
    "      the table number, and the name of the server.\n",
    "      • A constructor that sets the values of all four fields\n",
    "      • A method called calculate_total that takes no arguments (besides self) and returns the total\n",
    "      bill including sales tax.\n",
    "      • A method called print_check that writes to a file called check###.txt, where ### is the check\n",
    "      number and writes information about the check to that file, formatted like below:\n",
    "      Check Number: 443\n",
    "      Sales tax: 6.0%\n",
    "      Subtotal: $23.14\n",
    "      Total: $24.53\n",
    "      Table Number: 17\n",
    "      Server: Sonic the Hedgehog\n",
    "      Test the class by creating a RestaurantCheck object and calling the print_check() method"
   ]
  },
  {
   "cell_type": "code",
   "execution_count": 71,
   "id": "23287eba",
   "metadata": {},
   "outputs": [],
   "source": [
    "class RestaurantCheck:\n",
    "    def __init__(self, check_number, sales_tax_percent, subtotal, table_number, server_name):\n",
    "        self.check_number = check_number\n",
    "        self.sales_tax_percent = sales_tax_percent\n",
    "        self.subtotal = subtotal\n",
    "        self.table_number = table_number\n",
    "        self.server_name = server_name\n",
    "        \n",
    "    def calculate_total(self):\n",
    "        total_bill = (self.subtotal * (100 + self.sales_tax_percent))/100\n",
    "        print(f\"Your Total Bill is {total_bill}\")\n",
    "        \n",
    "    def print_check(self):\n",
    "        with open(f\"check{self.check_number}.txt\", 'w') as f:\n",
    "            f.write(f\"Check Number: {self.check_number}\\n\")\n",
    "            f.write(f\"Sales Tax: {self.sales_tax_percent}\\n\")\n",
    "            f.write(f\"Sub Total: {self.subtotal}\\n\")\n",
    "            f.write(f\"Table Number: {self.table_number}\\n\")\n",
    "            f.write(f\"server_name: {self.server_name}\\n\")\n",
    "            f.read(f\"check{self.check_number}.txt\")"
   ]
  },
  {
   "cell_type": "code",
   "execution_count": 72,
   "id": "8001856e",
   "metadata": {},
   "outputs": [],
   "source": [
    "bill1 = RestaurantCheck(443, 6.0, 23.14, 17, \"Sonic Hedgehog\")"
   ]
  },
  {
   "cell_type": "code",
   "execution_count": 73,
   "id": "173abea9",
   "metadata": {},
   "outputs": [
    {
     "name": "stdout",
     "output_type": "stream",
     "text": [
      "Your Total Bill is 24.5284\n"
     ]
    }
   ],
   "source": [
    "bill1.calculate_total()"
   ]
  },
  {
   "cell_type": "code",
   "execution_count": null,
   "id": "d0a5f9fd",
   "metadata": {},
   "outputs": [],
   "source": []
  },
  {
   "cell_type": "code",
   "execution_count": 67,
   "id": "620c3a88",
   "metadata": {},
   "outputs": [
    {
     "name": "stdout",
     "output_type": "stream",
     "text": [
      "Check Number : 443\n",
      "Sales Tax :  6.0\n",
      "SubTotal : 23.14\n",
      "Table Number :  17\n",
      "Server :  Sonic Hedgehog\n"
     ]
    }
   ],
   "source": [
    "print(\"Check Number :\", bill1.check_number)\n",
    "print(\"Sales Tax : \",  bill1.sales_tax_percent)\n",
    "print(\"SubTotal :\" , bill1.subtotal)\n",
    "print(\"Table Number : \", bill1.table_number)\n",
    "print(\"Server : \", bill1.server_name)"
   ]
  },
  {
   "cell_type": "raw",
   "id": "0fe38224",
   "metadata": {},
   "source": [
    "Write a class called Ticket that has the following:\n",
    "      • A field cost for the price of the ticket and a string field time for the start time of the event\n",
    "      (assume times are in 24-hour format, like '18:35')\n",
    "      • A constructor that sets those variables\n",
    "      • A __str__() method that returns a string of the form Ticket(<cost>, <time>), where\n",
    "      <cost> and <time> are replaced with the values of the cost and time fields.\n",
    "      • A method called is_evening_time() that returns True or False, depending on whether the\n",
    "      time falls in the range from 18:00 to 23:59.\n",
    "      • A method called bulk_discount() that takes an integer n and returns the discount for buying n\n",
    "      tickets. There should be a 10% discount for buying 5 to 9 tickets, and a 20% discount for buying\n",
    "      10 or more. Otherwise, there is no discount. Return these percentages as integers.\n",
    "      Test the class by creating a Ticket item, printing it, calling the is_evening_time() method, and\n",
    "      calling the bulk_discount() method"
   ]
  },
  {
   "cell_type": "code",
   "execution_count": 15,
   "id": "de4beb65",
   "metadata": {},
   "outputs": [],
   "source": [
    "class Ticket:\n",
    "    def __init__(self, cost, start_time):\n",
    "        self.cost = cost\n",
    "        self.start_time = start_time\n",
    "        \n",
    "    def __str__(self):\n",
    "        return f\"{self.cost} : {self.start_time}\"\n",
    "    \n",
    "    def is_evening_time(self, nowTime):\n",
    "        endTime = \"23:59\"\n",
    "        if self.start_time < endTime:\n",
    "            return self.start_time <= nowTime <= endTime\n",
    "        else: #Over midnight\n",
    "            return nowTime >= self.start_time or nowTime <= endTime\n",
    "        \n",
    "    def bulk_discount(self, tickets):\n",
    "        if 10 > tickets > 4:\n",
    "            print(\"Hurreh! You will get a discount of 10 %\")\n",
    "        if tickets > 11:\n",
    "            print(\"Hurreh! You will get a discount of 20 %\")\n",
    "        "
   ]
  },
  {
   "cell_type": "code",
   "execution_count": 16,
   "id": "b0b09adb",
   "metadata": {},
   "outputs": [],
   "source": [
    "cust1 = Ticket(100, \"18:00\")"
   ]
  },
  {
   "cell_type": "code",
   "execution_count": 17,
   "id": "c438a492",
   "metadata": {},
   "outputs": [
    {
     "name": "stdout",
     "output_type": "stream",
     "text": [
      "100 : 18:00\n"
     ]
    }
   ],
   "source": [
    "print(cust1)"
   ]
  },
  {
   "cell_type": "code",
   "execution_count": 18,
   "id": "c08e0f45",
   "metadata": {},
   "outputs": [
    {
     "name": "stdout",
     "output_type": "stream",
     "text": [
      "Hurreh! You will get a discount of 20 %\n"
     ]
    }
   ],
   "source": [
    "cust1.bulk_discount(12)"
   ]
  },
  {
   "cell_type": "code",
   "execution_count": 20,
   "id": "d569a615",
   "metadata": {},
   "outputs": [
    {
     "data": {
      "text/plain": [
       "False"
      ]
     },
     "execution_count": 20,
     "metadata": {},
     "output_type": "execute_result"
    }
   ],
   "source": [
    "cust1.is_evening_time(\"15:30\")"
   ]
  },
  {
   "cell_type": "code",
   "execution_count": 77,
   "id": "5125d8ae",
   "metadata": {},
   "outputs": [],
   "source": [
    "def isNowInTimePeriod(startTime, endTime, nowTime):\n",
    "    if startTime < endTime:\n",
    "        return startTime <= nowTime <= endTime\n",
    "    else: #Over midnight\n",
    "        return nowTime >= startTime or nowTime <= endTime"
   ]
  },
  {
   "cell_type": "code",
   "execution_count": 82,
   "id": "9db2d4b8",
   "metadata": {},
   "outputs": [
    {
     "data": {
      "text/plain": [
       "False"
      ]
     },
     "execution_count": 82,
     "metadata": {},
     "output_type": "execute_result"
    }
   ],
   "source": [
    "isNowInTimePeriod(\"18:00\", \"23:59\", \"15:35\")"
   ]
  },
  {
   "cell_type": "markdown",
   "id": "df8f4057",
   "metadata": {},
   "source": [
    "# 17th dec encapsulation"
   ]
  },
  {
   "cell_type": "code",
   "execution_count": 21,
   "id": "8fb66f0f",
   "metadata": {},
   "outputs": [],
   "source": [
    "class Bike:\n",
    "    pass"
   ]
  },
  {
   "cell_type": "code",
   "execution_count": 31,
   "id": "4aca4b9f",
   "metadata": {},
   "outputs": [],
   "source": [
    "kawasaki = Bike() #Here kawasaki is a object"
   ]
  },
  {
   "cell_type": "code",
   "execution_count": 30,
   "id": "b8029564",
   "metadata": {},
   "outputs": [],
   "source": [
    "kawasaki.colour = \"black\" # THE GIVEN COLOUR, MODEL, MILEGE ARE ATTRIBUTE OR PROPERTY ASSOCIATED WITH A PARTICULAR OBJECT"
   ]
  },
  {
   "cell_type": "code",
   "execution_count": 25,
   "id": "f1f27862",
   "metadata": {},
   "outputs": [],
   "source": [
    "kawasaki.model = \"Honey Comb Edition\""
   ]
  },
  {
   "cell_type": "code",
   "execution_count": 26,
   "id": "926cdfe8",
   "metadata": {},
   "outputs": [],
   "source": [
    "kawasaki.milege = \"8 km\""
   ]
  },
  {
   "cell_type": "code",
   "execution_count": 27,
   "id": "f2bd2723",
   "metadata": {},
   "outputs": [
    {
     "data": {
      "text/plain": [
       "'black'"
      ]
     },
     "execution_count": 27,
     "metadata": {},
     "output_type": "execute_result"
    }
   ],
   "source": [
    "kawasaki.colour"
   ]
  },
  {
   "cell_type": "code",
   "execution_count": 28,
   "id": "77b03311",
   "metadata": {},
   "outputs": [
    {
     "data": {
      "text/plain": [
       "'8 km'"
      ]
     },
     "execution_count": 28,
     "metadata": {},
     "output_type": "execute_result"
    }
   ],
   "source": [
    "kawasaki.milege"
   ]
  },
  {
   "cell_type": "code",
   "execution_count": 29,
   "id": "267e6625",
   "metadata": {},
   "outputs": [
    {
     "data": {
      "text/plain": [
       "'Honey Comb Edition'"
      ]
     },
     "execution_count": 29,
     "metadata": {},
     "output_type": "execute_result"
    }
   ],
   "source": [
    "kawasaki.model"
   ]
  },
  {
   "cell_type": "code",
   "execution_count": 34,
   "id": "34ba64d1",
   "metadata": {},
   "outputs": [],
   "source": [
    "honda = Bike() #HERE  HONDA IS ANOTHER OBJECT"
   ]
  },
  {
   "cell_type": "code",
   "execution_count": 35,
   "id": "5ce4d93e",
   "metadata": {},
   "outputs": [],
   "source": [
    "honda.colour = \"Neon\"\n",
    "honda.model = \"Shine SP\"\n",
    "honda.milege = \"55 km\""
   ]
  },
  {
   "cell_type": "code",
   "execution_count": 36,
   "id": "c1628521",
   "metadata": {},
   "outputs": [
    {
     "data": {
      "text/plain": [
       "'Neon'"
      ]
     },
     "execution_count": 36,
     "metadata": {},
     "output_type": "execute_result"
    }
   ],
   "source": [
    "honda.colour"
   ]
  },
  {
   "cell_type": "code",
   "execution_count": 37,
   "id": "2c27264f",
   "metadata": {},
   "outputs": [
    {
     "data": {
      "text/plain": [
       "'Shine SP'"
      ]
     },
     "execution_count": 37,
     "metadata": {},
     "output_type": "execute_result"
    }
   ],
   "source": [
    "honda.model"
   ]
  },
  {
   "cell_type": "code",
   "execution_count": 38,
   "id": "4efd1366",
   "metadata": {},
   "outputs": [
    {
     "data": {
      "text/plain": [
       "'55 km'"
      ]
     },
     "execution_count": 38,
     "metadata": {},
     "output_type": "execute_result"
    }
   ],
   "source": [
    "honda.milege"
   ]
  },
  {
   "cell_type": "code",
   "execution_count": 60,
   "id": "3f6507a7",
   "metadata": {},
   "outputs": [],
   "source": [
    "class Bike:\n",
    "    def __init__(a, colour, model, milege, year):\n",
    "        a.c = colour\n",
    "        a.mo = model\n",
    "        a.mi = milege\n",
    "        a.y = year\n",
    "        \n",
    "    def age(b, current_year):\n",
    "        return  current_year - b.y\n",
    "    \n",
    "    def kmpl(self):\n",
    "        print(\"The milege of the given Bike is {self.milege}\")"
   ]
  },
  {
   "cell_type": "code",
   "execution_count": 61,
   "id": "d1065aa5",
   "metadata": {},
   "outputs": [],
   "source": [
    "honda1 = Bike(\"Neon\", \"Shine SP\", \"55 Km\", 2021)"
   ]
  },
  {
   "cell_type": "code",
   "execution_count": 53,
   "id": "6228af8c",
   "metadata": {},
   "outputs": [
    {
     "ename": "TypeError",
     "evalue": "__init__() missing 1 required positional argument: 'year'",
     "output_type": "error",
     "traceback": [
      "\u001b[1;31m---------------------------------------------------------------------------\u001b[0m",
      "\u001b[1;31mTypeError\u001b[0m                                 Traceback (most recent call last)",
      "Input \u001b[1;32mIn [53]\u001b[0m, in \u001b[0;36m<cell line: 1>\u001b[1;34m()\u001b[0m\n\u001b[1;32m----> 1\u001b[0m honda2 \u001b[38;5;241m=\u001b[39m \u001b[43mBike\u001b[49m\u001b[43m(\u001b[49m\u001b[38;5;124;43m\"\u001b[39;49m\u001b[38;5;124;43mOrange\u001b[39;49m\u001b[38;5;124;43m\"\u001b[39;49m\u001b[43m,\u001b[49m\u001b[43m \u001b[49m\u001b[38;5;124;43m\"\u001b[39;49m\u001b[38;5;124;43mHornet\u001b[39;49m\u001b[38;5;124;43m\"\u001b[39;49m\u001b[43m,\u001b[49m\u001b[43m \u001b[49m\u001b[38;5;124;43m\"\u001b[39;49m\u001b[38;5;124;43m35 Km\u001b[39;49m\u001b[38;5;124;43m\"\u001b[39;49m\u001b[43m)\u001b[49m\n\u001b[0;32m      2\u001b[0m honda3 \u001b[38;5;241m=\u001b[39m Bike(\u001b[38;5;124m\"\u001b[39m\u001b[38;5;124mOrange\u001b[39m\u001b[38;5;124m\"\u001b[39m, \u001b[38;5;124m\"\u001b[39m\u001b[38;5;124mHornet\u001b[39m\u001b[38;5;124m\"\u001b[39m, \u001b[38;5;124m\"\u001b[39m\u001b[38;5;124m35 Km\u001b[39m\u001b[38;5;124m\"\u001b[39m)\n\u001b[0;32m      3\u001b[0m honda4 \u001b[38;5;241m=\u001b[39m Bike(\u001b[38;5;124m\"\u001b[39m\u001b[38;5;124mOrange\u001b[39m\u001b[38;5;124m\"\u001b[39m, \u001b[38;5;124m\"\u001b[39m\u001b[38;5;124mHornet\u001b[39m\u001b[38;5;124m\"\u001b[39m, \u001b[38;5;124m\"\u001b[39m\u001b[38;5;124m35 Km\u001b[39m\u001b[38;5;124m\"\u001b[39m)\n",
      "\u001b[1;31mTypeError\u001b[0m: __init__() missing 1 required positional argument: 'year'"
     ]
    }
   ],
   "source": [
    "honda2 = Bike(\"Orange\", \"Hornet\", \"35 Km\")\n",
    "honda3 = Bike(\"Orange\", \"Hornet\", \"35 Km\")\n",
    "honda4 = Bike(\"Orange\", \"Hornet\", \"35 Km\")\n",
    "honda5 = Bike(\"Orange\", \"Hornet\", \"35 Km\")\n",
    "honda6 = Bike(\"Orange\", \"Hornet\", \"35 Km\")"
   ]
  },
  {
   "cell_type": "code",
   "execution_count": 62,
   "id": "0f7e7385",
   "metadata": {},
   "outputs": [
    {
     "data": {
      "text/plain": [
       "2"
      ]
     },
     "execution_count": 62,
     "metadata": {},
     "output_type": "execute_result"
    }
   ],
   "source": [
    "honda1.age(2023)"
   ]
  },
  {
   "cell_type": "code",
   "execution_count": 81,
   "id": "f83f6442",
   "metadata": {},
   "outputs": [],
   "source": [
    "class Cycle:\n",
    "    def __init__(a, com, mo, y, col):\n",
    "        a.company = com\n",
    "        a.model = mo\n",
    "        a.year = y\n",
    "        a.colour = col\n",
    "        \n",
    "    def age(b, current_year):\n",
    "        return current_year - b.year\n",
    "    \n",
    "    def km_per_charge(b):\n",
    "        print(f\"The Kilometer per charge of {b.company} {b.model} is 45 km\")\n",
    "        \n",
    "    def __str__(c):\n",
    "        return \"This is the cycle class which is self created\""
   ]
  },
  {
   "cell_type": "code",
   "execution_count": 82,
   "id": "f0a05af5",
   "metadata": {},
   "outputs": [],
   "source": [
    "cycle=Cycle(\"Hercules\", \"Street Cat\", 2020, \"Orange\")"
   ]
  },
  {
   "cell_type": "code",
   "execution_count": 83,
   "id": "357980e2",
   "metadata": {},
   "outputs": [
    {
     "data": {
      "text/plain": [
       "3"
      ]
     },
     "execution_count": 83,
     "metadata": {},
     "output_type": "execute_result"
    }
   ],
   "source": [
    "cycle.age(2023)"
   ]
  },
  {
   "cell_type": "code",
   "execution_count": 84,
   "id": "8d3823f0",
   "metadata": {},
   "outputs": [
    {
     "name": "stdout",
     "output_type": "stream",
     "text": [
      "The Kilometer per charge of Hercules Street Cat is 45 km\n"
     ]
    }
   ],
   "source": [
    "cycle.km_per_charge()"
   ]
  },
  {
   "cell_type": "code",
   "execution_count": 85,
   "id": "e2a88680",
   "metadata": {},
   "outputs": [
    {
     "name": "stdout",
     "output_type": "stream",
     "text": [
      "This is the cycle class which is self created\n"
     ]
    }
   ],
   "source": [
    "print(cycle)"
   ]
  },
  {
   "cell_type": "code",
   "execution_count": 87,
   "id": "917108cd",
   "metadata": {},
   "outputs": [],
   "source": [
    "class Person:\n",
    "    def __init__(self, first_name, last_name, age):\n",
    "        self.first_name = first_name\n",
    "        self.last_name = last_name\n",
    "        self.age = age\n",
    "        \n",
    "    def __str__(self):\n",
    "        return \"This is a self created Person class\""
   ]
  },
  {
   "cell_type": "code",
   "execution_count": 95,
   "id": "10508e25",
   "metadata": {},
   "outputs": [],
   "source": [
    "person1 = Person(\"Divyanshu\", \"kumar\", 21)"
   ]
  },
  {
   "cell_type": "code",
   "execution_count": 96,
   "id": "8cae7ff0",
   "metadata": {},
   "outputs": [
    {
     "name": "stdout",
     "output_type": "stream",
     "text": [
      "This is a self created Person class\n"
     ]
    }
   ],
   "source": [
    "print(person1)"
   ]
  },
  {
   "cell_type": "code",
   "execution_count": 102,
   "id": "c965c33a",
   "metadata": {},
   "outputs": [],
   "source": [
    "class Student:\n",
    "    \n",
    "    def __init__(self, name, roll, joining_date, current_topic):\n",
    "        self.name = name\n",
    "        self.roll = roll\n",
    "        self.joining_date = joining_date\n",
    "        self.current_topic = current_topic\n",
    "        \n",
    "    def cur_topic(self):\n",
    "        print(f\"The current topic that is being discussed in the class is {self.current_topic}\")\n",
    "        \n",
    "    def str_roll_no(self):\n",
    "        try:\n",
    "            if type(self.roll) == str:\n",
    "                print(\"Do nothing\")\n",
    "                \n",
    "            else:\n",
    "                return str(self.roll)\n",
    "        except exception as e:\n",
    "            print (\"This is my error\", e)\n",
    "            \n",
    "    def duration(self, current_date):\n",
    "        print(f\"The duration of student in my class is {current_date - self.joining_date}\")\n",
    "        \n",
    "    def __str__(self):\n",
    "        return \"This is a Student class\"\n",
    "    "
   ]
  },
  {
   "cell_type": "code",
   "execution_count": 103,
   "id": "91925124",
   "metadata": {},
   "outputs": [],
   "source": [
    "stu1 = Student(\"Divyanshu\", 21, \"2022\", \"FSDS\")"
   ]
  },
  {
   "cell_type": "code",
   "execution_count": 104,
   "id": "a357b540",
   "metadata": {},
   "outputs": [
    {
     "data": {
      "text/plain": [
       "'21'"
      ]
     },
     "execution_count": 104,
     "metadata": {},
     "output_type": "execute_result"
    }
   ],
   "source": [
    "stu1.str_roll_no()"
   ]
  },
  {
   "cell_type": "code",
   "execution_count": 107,
   "id": "5b6b43f1",
   "metadata": {},
   "outputs": [
    {
     "name": "stdout",
     "output_type": "stream",
     "text": [
      "This is a Student class\n"
     ]
    }
   ],
   "source": [
    "print(stu1)"
   ]
  },
  {
   "cell_type": "code",
   "execution_count": 109,
   "id": "2cfb86b4",
   "metadata": {},
   "outputs": [],
   "source": [
    "class SimpleCalculator:\n",
    "    def __init__(self, num1, num2, operator):\n",
    "        self.num1 = num1\n",
    "        self.num2 = num2\n",
    "        self.operator = operator\n",
    "        \n",
    "    def calculate(self):\n",
    "        if self.operator == \"+\":\n",
    "            print(f\"{self.num1 + self.num2}\")\n",
    "            \n",
    "        elif self.operator == \"-\":\n",
    "            print(f\"{self.num1 - self.num2}\")\n",
    "            \n",
    "        elif self.operator == \"*\":\n",
    "            print(f\"{self.num1 * self.num2}\")\n",
    "            \n",
    "        else:\n",
    "            print(f\"{self.num1 / self.num2}\")\n",
    "            \n",
    "        "
   ]
  },
  {
   "cell_type": "code",
   "execution_count": 119,
   "id": "880f1754",
   "metadata": {},
   "outputs": [],
   "source": [
    "calc1 = SimpleCalculator(4, 9, '/')"
   ]
  },
  {
   "cell_type": "code",
   "execution_count": 120,
   "id": "02c40fa5",
   "metadata": {},
   "outputs": [
    {
     "name": "stdout",
     "output_type": "stream",
     "text": [
      "0.4444444444444444\n"
     ]
    }
   ],
   "source": [
    "calc1.calculate()"
   ]
  },
  {
   "cell_type": "code",
   "execution_count": 133,
   "id": "44d7922e",
   "metadata": {},
   "outputs": [],
   "source": [
    "#Non parameterised constructor\n",
    "class SimpleCalculator2:\n",
    "    def __init__(self):\n",
    "        self.num1 = int(input(\"Enter the first number\"))\n",
    "        self.num2 = int(input(\"Enter the second number\"))\n",
    "        \n",
    "    def add(self):\n",
    "        return self.num1 + self.num2\n",
    "    \n",
    "    def sub(self):\n",
    "        return self.num1-self.num\n",
    "    \n",
    "    def mul(self):\n",
    "        return self.num1 * self.num2\n",
    "    \n",
    "    def divide(self):\n",
    "        return self.num1/self.num2\n",
    "    "
   ]
  },
  {
   "cell_type": "code",
   "execution_count": 131,
   "id": "23b1c5a8",
   "metadata": {},
   "outputs": [
    {
     "name": "stdout",
     "output_type": "stream",
     "text": [
      "Enter the first number6\n",
      "Enter the second number8\n"
     ]
    }
   ],
   "source": [
    "calc2 = SimpleCalculator2()"
   ]
  },
  {
   "cell_type": "code",
   "execution_count": 132,
   "id": "6de656b3",
   "metadata": {},
   "outputs": [
    {
     "data": {
      "text/plain": [
       "14"
      ]
     },
     "execution_count": 132,
     "metadata": {},
     "output_type": "execute_result"
    }
   ],
   "source": [
    "calc2.add()"
   ]
  },
  {
   "cell_type": "code",
   "execution_count": 134,
   "id": "759aa5b7",
   "metadata": {},
   "outputs": [],
   "source": [
    "class Company:\n",
    "    \n",
    "    def __init__(self):\n",
    "        self.name = \"Ineuron\"\n",
    "        self.address = \"Banglore\"\n",
    "        \n",
    "    def show(self):\n",
    "        print(f\"The name of the company is {self.name} and it is located in {self.address}\")"
   ]
  },
  {
   "cell_type": "code",
   "execution_count": 138,
   "id": "49782b2d",
   "metadata": {},
   "outputs": [],
   "source": [
    "cmp = Company()"
   ]
  },
  {
   "cell_type": "code",
   "execution_count": 139,
   "id": "1bd4f6dd",
   "metadata": {},
   "outputs": [
    {
     "name": "stdout",
     "output_type": "stream",
     "text": [
      "The name of the company is Ineuron and it is located in Banglore\n"
     ]
    }
   ],
   "source": [
    "cmp.show()"
   ]
  },
  {
   "cell_type": "code",
   "execution_count": 9,
   "id": "ff83b3db",
   "metadata": {},
   "outputs": [],
   "source": [
    "class Rectangle:\n",
    "    def __init__(self):\n",
    "        self.__length = 5\n",
    "        self.__breadth = 3\n",
    "        \n",
    "        print(self.__length)\n",
    "        print(self.__breadth)"
   ]
  },
  {
   "cell_type": "code",
   "execution_count": 10,
   "id": "e9bdabf0",
   "metadata": {},
   "outputs": [
    {
     "name": "stdout",
     "output_type": "stream",
     "text": [
      "5\n",
      "3\n"
     ]
    }
   ],
   "source": [
    "r1 = Rectangle()"
   ]
  },
  {
   "cell_type": "code",
   "execution_count": 11,
   "id": "803835b4",
   "metadata": {},
   "outputs": [
    {
     "ename": "AttributeError",
     "evalue": "'Rectangle' object has no attribute 'breadth'",
     "output_type": "error",
     "traceback": [
      "\u001b[1;31m---------------------------------------------------------------------------\u001b[0m",
      "\u001b[1;31mAttributeError\u001b[0m                            Traceback (most recent call last)",
      "Input \u001b[1;32mIn [11]\u001b[0m, in \u001b[0;36m<cell line: 1>\u001b[1;34m()\u001b[0m\n\u001b[1;32m----> 1\u001b[0m \u001b[43mr1\u001b[49m\u001b[38;5;241;43m.\u001b[39;49m\u001b[43mbreadth\u001b[49m\n",
      "\u001b[1;31mAttributeError\u001b[0m: 'Rectangle' object has no attribute 'breadth'"
     ]
    }
   ],
   "source": [
    "r1."
   ]
  },
  {
   "cell_type": "code",
   "execution_count": 1,
   "id": "805e5e4a",
   "metadata": {},
   "outputs": [
    {
     "name": "stdout",
     "output_type": "stream",
     "text": [
      "5\n",
      "3\n",
      "5\n"
     ]
    },
    {
     "ename": "AttributeError",
     "evalue": "'Rectangle' object has no attribute '__breadth'",
     "output_type": "error",
     "traceback": [
      "\u001b[1;31m---------------------------------------------------------------------------\u001b[0m",
      "\u001b[1;31mAttributeError\u001b[0m                            Traceback (most recent call last)",
      "Input \u001b[1;32mIn [1]\u001b[0m, in \u001b[0;36m<cell line: 14>\u001b[1;34m()\u001b[0m\n\u001b[0;32m     12\u001b[0m rect \u001b[38;5;241m=\u001b[39m Rectangle()\n\u001b[0;32m     13\u001b[0m \u001b[38;5;28mprint\u001b[39m(rect\u001b[38;5;241m.\u001b[39mlength)\n\u001b[1;32m---> 14\u001b[0m \u001b[38;5;28mprint\u001b[39m(\u001b[43mrect\u001b[49m\u001b[38;5;241;43m.\u001b[39;49m\u001b[43m__breadth\u001b[49m)\n",
      "\u001b[1;31mAttributeError\u001b[0m: 'Rectangle' object has no attribute '__breadth'"
     ]
    }
   ],
   "source": [
    "class Rectangle:\n",
    "    def __init__(self):\n",
    "        self.length = 5\n",
    "        self.__breadth = 3\n",
    "        \n",
    "        print(self.length)\n",
    "        print(self.__breadth)\n",
    "        \n",
    "    def show(self):\n",
    "        print(\"This is the private variable\", self.__breadth)\n",
    "        \n",
    "rect = Rectangle()\n",
    "print(rect.length)\n",
    "print(rect.__breadth) # This is a private variable. Hence, it is not accessible outside class"
   ]
  },
  {
   "cell_type": "code",
   "execution_count": 2,
   "id": "390c1045",
   "metadata": {},
   "outputs": [
    {
     "name": "stdout",
     "output_type": "stream",
     "text": [
      "This is the private variable 3\n"
     ]
    }
   ],
   "source": [
    "rect.show()"
   ]
  },
  {
   "cell_type": "code",
   "execution_count": 3,
   "id": "f608e309",
   "metadata": {},
   "outputs": [
    {
     "name": "stdout",
     "output_type": "stream",
     "text": [
      "3\n"
     ]
    }
   ],
   "source": [
    "print(rect._Rectangle__breadth) #Through name mangling i can access private as well as protected variable."
   ]
  },
  {
   "cell_type": "code",
   "execution_count": 11,
   "id": "97e5c5b2",
   "metadata": {},
   "outputs": [],
   "source": [
    "class Test:\n",
    "    def __init__(self):\n",
    "        self.a = 5\n",
    "        self._b = 8\n",
    "        self.__c = 10\n",
    "        \n",
    "        print(f\"This is public {self.a} and this is protected {self._b} and this is private {self.__c}\")"
   ]
  },
  {
   "cell_type": "code",
   "execution_count": 15,
   "id": "594b14a7",
   "metadata": {},
   "outputs": [
    {
     "name": "stdout",
     "output_type": "stream",
     "text": [
      "This is public 5 and this is protected 8 and this is private 10\n"
     ]
    }
   ],
   "source": [
    "t1 = Test()"
   ]
  },
  {
   "cell_type": "code",
   "execution_count": 20,
   "id": "ddf02fe8",
   "metadata": {},
   "outputs": [
    {
     "data": {
      "text/plain": [
       "10"
      ]
     },
     "execution_count": 20,
     "metadata": {},
     "output_type": "execute_result"
    }
   ],
   "source": [
    "t1._Test__c"
   ]
  },
  {
   "cell_type": "code",
   "execution_count": 21,
   "id": "93e82945",
   "metadata": {},
   "outputs": [
    {
     "data": {
      "text/plain": [
       "8"
      ]
     },
     "execution_count": 21,
     "metadata": {},
     "output_type": "execute_result"
    }
   ],
   "source": [
    "t1._b"
   ]
  },
  {
   "cell_type": "code",
   "execution_count": 22,
   "id": "50b46be8",
   "metadata": {},
   "outputs": [],
   "source": [
    "class Hello:\n",
    "    \n",
    "    def __init__(self):\n",
    "        self.a = 9\n",
    "        self._b = 99\n",
    "        self.__c = 999\n",
    "        \n",
    "    def show(self):\n",
    "        print(f\"{self.a} is public and {self._b} is protected and {self.__c} is protected\")"
   ]
  },
  {
   "cell_type": "code",
   "execution_count": 23,
   "id": "85938f2f",
   "metadata": {},
   "outputs": [],
   "source": [
    "h1 = Hello()"
   ]
  },
  {
   "cell_type": "code",
   "execution_count": 25,
   "id": "8b5f8000",
   "metadata": {},
   "outputs": [
    {
     "name": "stdout",
     "output_type": "stream",
     "text": [
      "9 is public and 99 is protected and 999 is protected\n"
     ]
    }
   ],
   "source": [
    "h1.show()"
   ]
  },
  {
   "cell_type": "code",
   "execution_count": 26,
   "id": "efa31ab6",
   "metadata": {},
   "outputs": [
    {
     "data": {
      "text/plain": [
       "99"
      ]
     },
     "execution_count": 26,
     "metadata": {},
     "output_type": "execute_result"
    }
   ],
   "source": [
    "h1._b"
   ]
  },
  {
   "cell_type": "code",
   "execution_count": 27,
   "id": "bb2fbbef",
   "metadata": {},
   "outputs": [
    {
     "data": {
      "text/plain": [
       "999"
      ]
     },
     "execution_count": 27,
     "metadata": {},
     "output_type": "execute_result"
    }
   ],
   "source": [
    "h1._Hello__c"
   ]
  },
  {
   "cell_type": "code",
   "execution_count": 58,
   "id": "ce8bb2f9",
   "metadata": {},
   "outputs": [],
   "source": [
    "class Tyres:\n",
    "    def __init__(self, branch, belted_bias, opt_pressure):\n",
    "        self.branch = branch\n",
    "        self.belted_bias = belted_bias\n",
    "        self.opt_pressure = opt_pressure\n",
    "    \n",
    "    def __str__(self):\n",
    "        return (\"Tyres's \\n \\t branch\"+self.branch+\n",
    "               \"\\n \\t belted_bias \"+self.belted_bias+\n",
    "               \"\\n \\t opt pressure\"+ self.opt_pressure)\n",
    "    \n",
    "class Engine:\n",
    "    def __init__(self, fuel_type, noise_level):\n",
    "        self.fuel_type = fuel_type\n",
    "        self.noise_level = noise_level\n",
    "        \n",
    "    def __str__(self):\n",
    "        return (\"Engine's \\n \\t fuel type\"+self.fuel_type+\n",
    "               \"\\n \\t belted_bias \"+self.noise_level)\n",
    "    \n",
    "class Body:\n",
    "    def __init__(self, size):\n",
    "        self.size = size\n",
    "        \n",
    "    def __str__(self):\n",
    "        return (\"Size's \\n \\t fuel type\"+self.size)\n",
    "    \n",
    "class Car:\n",
    "    def __init__(self, tyres, engines, size):\n",
    "        self.tyres = tyres\n",
    "        self.engines = engines\n",
    "        self.size = size\n",
    "        \n",
    "    def __str__(self):\n",
    "        return (\"Car's \\n \\t tyres\"+str(self.tyres)+\"\\n\"\n",
    "               \"\\n \\t engines \"+str(self.engines)+\"\\n\"\n",
    "               \"\\n \\t size\"+ str(self.size))\n",
    "        "
   ]
  },
  {
   "cell_type": "code",
   "execution_count": 59,
   "id": "7233aee3",
   "metadata": {},
   "outputs": [],
   "source": [
    "t1 = Tyres(\"Mumbai\", \"True\", \"50 psi\")\n",
    "e1 = Engine(\"Petrol\", \"3.0\")\n",
    "b1 = Body(\"Medium\")"
   ]
  },
  {
   "cell_type": "code",
   "execution_count": 60,
   "id": "c6a6b653",
   "metadata": {},
   "outputs": [
    {
     "name": "stdout",
     "output_type": "stream",
     "text": [
      "Tyres's \n",
      " \t branchMumbai\n",
      " \t belted_bias True\n",
      " \t opt pressure50 psi\n",
      "Engine's \n",
      " \t fuel typePetrol\n",
      " \t belted_bias 3.0\n",
      "Size's \n",
      " \t fuel typeMedium\n"
     ]
    }
   ],
   "source": [
    "print(t1)\n",
    "print(e1)\n",
    "print(b1)"
   ]
  },
  {
   "cell_type": "code",
   "execution_count": 61,
   "id": "126b51f0",
   "metadata": {},
   "outputs": [],
   "source": [
    "c = Car(t1, e1, b1)"
   ]
  },
  {
   "cell_type": "code",
   "execution_count": 62,
   "id": "58db2cb0",
   "metadata": {},
   "outputs": [
    {
     "name": "stdout",
     "output_type": "stream",
     "text": [
      "Car's \n",
      " \t tyresTyres's \n",
      " \t branchMumbai\n",
      " \t belted_bias True\n",
      " \t opt pressure50 psi\n",
      "\n",
      " \t engines Engine's \n",
      " \t fuel typePetrol\n",
      " \t belted_bias 3.0\n",
      "\n",
      " \t sizeSize's \n",
      " \t fuel typeMedium\n"
     ]
    }
   ],
   "source": [
    "print(c)"
   ]
  },
  {
   "cell_type": "code",
   "execution_count": null,
   "id": "ad1e0034",
   "metadata": {},
   "outputs": [],
   "source": []
  }
 ],
 "metadata": {
  "kernelspec": {
   "display_name": "Python 3 (ipykernel)",
   "language": "python",
   "name": "python3"
  },
  "language_info": {
   "codemirror_mode": {
    "name": "ipython",
    "version": 3
   },
   "file_extension": ".py",
   "mimetype": "text/x-python",
   "name": "python",
   "nbconvert_exporter": "python",
   "pygments_lexer": "ipython3",
   "version": "3.9.12"
  }
 },
 "nbformat": 4,
 "nbformat_minor": 5
}
